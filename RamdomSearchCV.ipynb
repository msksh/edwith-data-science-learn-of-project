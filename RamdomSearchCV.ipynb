{
 "cells": [
  {
   "cell_type": "markdown",
   "metadata": {},
   "source": [
    "라이브러리 로드"
   ]
  },
  {
   "cell_type": "code",
   "execution_count": 1,
   "metadata": {},
   "outputs": [],
   "source": [
    "import pandas as pd\n",
    "import numpy as np\n",
    "import seaborn as sns\n",
    "import matplotlib.pyplot as plt\n",
    "\n",
    "%matplotlib inline"
   ]
  },
  {
   "cell_type": "markdown",
   "metadata": {},
   "source": [
    "데이터셋로드"
   ]
  },
  {
   "cell_type": "code",
   "execution_count": 2,
   "metadata": {},
   "outputs": [
    {
     "data": {
      "text/plain": [
       "(768, 16)"
      ]
     },
     "execution_count": 2,
     "metadata": {},
     "output_type": "execute_result"
    }
   ],
   "source": [
    "df = pd.read_csv(\"data/diabetes_feature.csv\")\n",
    "df.shape"
   ]
  },
  {
   "cell_type": "code",
   "execution_count": 3,
   "metadata": {},
   "outputs": [
    {
     "data": {
      "text/html": [
       "<div>\n",
       "<style scoped>\n",
       "    .dataframe tbody tr th:only-of-type {\n",
       "        vertical-align: middle;\n",
       "    }\n",
       "\n",
       "    .dataframe tbody tr th {\n",
       "        vertical-align: top;\n",
       "    }\n",
       "\n",
       "    .dataframe thead th {\n",
       "        text-align: right;\n",
       "    }\n",
       "</style>\n",
       "<table border=\"1\" class=\"dataframe\">\n",
       "  <thead>\n",
       "    <tr style=\"text-align: right;\">\n",
       "      <th></th>\n",
       "      <th>Pregnancies</th>\n",
       "      <th>Glucose</th>\n",
       "      <th>BloodPressure</th>\n",
       "      <th>SkinThickness</th>\n",
       "      <th>Insulin</th>\n",
       "      <th>BMI</th>\n",
       "      <th>DiabetesPedigreeFunction</th>\n",
       "      <th>Age</th>\n",
       "      <th>Outcome</th>\n",
       "      <th>Pregnancies_high</th>\n",
       "      <th>Age_low</th>\n",
       "      <th>Age_middle</th>\n",
       "      <th>Age_high</th>\n",
       "      <th>Insulin_nan</th>\n",
       "      <th>Insulin_log</th>\n",
       "      <th>low_glu_insulin</th>\n",
       "    </tr>\n",
       "  </thead>\n",
       "  <tbody>\n",
       "    <tr>\n",
       "      <th>0</th>\n",
       "      <td>6</td>\n",
       "      <td>0.848324</td>\n",
       "      <td>72</td>\n",
       "      <td>35</td>\n",
       "      <td>0</td>\n",
       "      <td>33.6</td>\n",
       "      <td>0.468492</td>\n",
       "      <td>50</td>\n",
       "      <td>1</td>\n",
       "      <td>False</td>\n",
       "      <td>False</td>\n",
       "      <td>True</td>\n",
       "      <td>False</td>\n",
       "      <td>169.5</td>\n",
       "      <td>5.138735</td>\n",
       "      <td>False</td>\n",
       "    </tr>\n",
       "    <tr>\n",
       "      <th>1</th>\n",
       "      <td>1</td>\n",
       "      <td>-1.123396</td>\n",
       "      <td>66</td>\n",
       "      <td>29</td>\n",
       "      <td>0</td>\n",
       "      <td>26.6</td>\n",
       "      <td>-0.365061</td>\n",
       "      <td>31</td>\n",
       "      <td>0</td>\n",
       "      <td>False</td>\n",
       "      <td>False</td>\n",
       "      <td>True</td>\n",
       "      <td>False</td>\n",
       "      <td>102.5</td>\n",
       "      <td>4.639572</td>\n",
       "      <td>True</td>\n",
       "    </tr>\n",
       "    <tr>\n",
       "      <th>2</th>\n",
       "      <td>8</td>\n",
       "      <td>1.943724</td>\n",
       "      <td>64</td>\n",
       "      <td>0</td>\n",
       "      <td>0</td>\n",
       "      <td>23.3</td>\n",
       "      <td>0.604397</td>\n",
       "      <td>32</td>\n",
       "      <td>1</td>\n",
       "      <td>True</td>\n",
       "      <td>False</td>\n",
       "      <td>True</td>\n",
       "      <td>False</td>\n",
       "      <td>169.5</td>\n",
       "      <td>5.138735</td>\n",
       "      <td>False</td>\n",
       "    </tr>\n",
       "    <tr>\n",
       "      <th>3</th>\n",
       "      <td>1</td>\n",
       "      <td>-0.998208</td>\n",
       "      <td>66</td>\n",
       "      <td>23</td>\n",
       "      <td>94</td>\n",
       "      <td>28.1</td>\n",
       "      <td>-0.920763</td>\n",
       "      <td>21</td>\n",
       "      <td>0</td>\n",
       "      <td>False</td>\n",
       "      <td>True</td>\n",
       "      <td>False</td>\n",
       "      <td>False</td>\n",
       "      <td>94.0</td>\n",
       "      <td>4.553877</td>\n",
       "      <td>True</td>\n",
       "    </tr>\n",
       "    <tr>\n",
       "      <th>4</th>\n",
       "      <td>0</td>\n",
       "      <td>0.504055</td>\n",
       "      <td>40</td>\n",
       "      <td>35</td>\n",
       "      <td>168</td>\n",
       "      <td>43.1</td>\n",
       "      <td>5.484909</td>\n",
       "      <td>33</td>\n",
       "      <td>1</td>\n",
       "      <td>False</td>\n",
       "      <td>False</td>\n",
       "      <td>True</td>\n",
       "      <td>False</td>\n",
       "      <td>168.0</td>\n",
       "      <td>5.129899</td>\n",
       "      <td>False</td>\n",
       "    </tr>\n",
       "  </tbody>\n",
       "</table>\n",
       "</div>"
      ],
      "text/plain": [
       "   Pregnancies   Glucose  BloodPressure  SkinThickness  Insulin   BMI  \\\n",
       "0            6  0.848324             72             35        0  33.6   \n",
       "1            1 -1.123396             66             29        0  26.6   \n",
       "2            8  1.943724             64              0        0  23.3   \n",
       "3            1 -0.998208             66             23       94  28.1   \n",
       "4            0  0.504055             40             35      168  43.1   \n",
       "\n",
       "   DiabetesPedigreeFunction  Age  Outcome  Pregnancies_high  Age_low  \\\n",
       "0                  0.468492   50        1             False    False   \n",
       "1                 -0.365061   31        0             False    False   \n",
       "2                  0.604397   32        1              True    False   \n",
       "3                 -0.920763   21        0             False     True   \n",
       "4                  5.484909   33        1             False    False   \n",
       "\n",
       "   Age_middle  Age_high  Insulin_nan  Insulin_log  low_glu_insulin  \n",
       "0        True     False        169.5     5.138735            False  \n",
       "1        True     False        102.5     4.639572             True  \n",
       "2        True     False        169.5     5.138735            False  \n",
       "3       False     False         94.0     4.553877             True  \n",
       "4        True     False        168.0     5.129899            False  "
      ]
     },
     "execution_count": 3,
     "metadata": {},
     "output_type": "execute_result"
    }
   ],
   "source": [
    "df.head()"
   ]
  },
  {
   "cell_type": "markdown",
   "metadata": {},
   "source": [
    "학습과 에측에 사용할 데이터셋 만들기"
   ]
  },
  {
   "cell_type": "code",
   "execution_count": 4,
   "metadata": {},
   "outputs": [
    {
     "data": {
      "text/plain": [
       "Index(['Pregnancies', 'Glucose', 'BloodPressure', 'SkinThickness', 'Insulin',\n",
       "       'BMI', 'DiabetesPedigreeFunction', 'Age', 'Outcome', 'Pregnancies_high',\n",
       "       'Age_low', 'Age_middle', 'Age_high', 'Insulin_nan', 'Insulin_log',\n",
       "       'low_glu_insulin'],\n",
       "      dtype='object')"
      ]
     },
     "execution_count": 4,
     "metadata": {},
     "output_type": "execute_result"
    }
   ],
   "source": [
    "df.columns"
   ]
  },
  {
   "cell_type": "code",
   "execution_count": 5,
   "metadata": {},
   "outputs": [
    {
     "data": {
      "text/plain": [
       "(768, 9)"
      ]
     },
     "execution_count": 5,
     "metadata": {},
     "output_type": "execute_result"
    }
   ],
   "source": [
    "X = df[[ 'Glucose', 'BloodPressure', 'SkinThickness', \n",
    "       'BMI', 'DiabetesPedigreeFunction', 'Age',  'Pregnancies_high', 'Insulin_nan', \n",
    "       'low_glu_insulin']]\n",
    "X.shape"
   ]
  },
  {
   "cell_type": "code",
   "execution_count": 6,
   "metadata": {},
   "outputs": [
    {
     "data": {
      "text/plain": [
       "(768,)"
      ]
     },
     "execution_count": 6,
     "metadata": {},
     "output_type": "execute_result"
    }
   ],
   "source": [
    "y = df['Outcome']\n",
    "y.shape"
   ]
  },
  {
   "cell_type": "code",
   "execution_count": 7,
   "metadata": {},
   "outputs": [],
   "source": [
    "from sklearn.model_selection import train_test_split\n",
    "X_train, X_test, y_train, y_test = train_test_split(\n",
    "X, y, test_size=0.2, random_state=42)"
   ]
  },
  {
   "cell_type": "code",
   "execution_count": 8,
   "metadata": {},
   "outputs": [
    {
     "data": {
      "text/plain": [
       "((614, 9), (614,))"
      ]
     },
     "execution_count": 8,
     "metadata": {},
     "output_type": "execute_result"
    }
   ],
   "source": [
    "X_train.shape, y_train.shape"
   ]
  },
  {
   "cell_type": "code",
   "execution_count": 9,
   "metadata": {},
   "outputs": [
    {
     "data": {
      "text/plain": [
       "((154, 9), (154,))"
      ]
     },
     "execution_count": 9,
     "metadata": {},
     "output_type": "execute_result"
    }
   ],
   "source": [
    "X_test.shape, y_test.shape"
   ]
  },
  {
   "cell_type": "markdown",
   "metadata": {},
   "source": [
    "모데링"
   ]
  },
  {
   "cell_type": "code",
   "execution_count": 10,
   "metadata": {},
   "outputs": [],
   "source": [
    "#single tree\n",
    "#from sklearn.tree import DecisionTreeClassifier\n",
    "#model = DecisionTreeClassifier(random_state=42)\n",
    "#model"
   ]
  },
  {
   "cell_type": "code",
   "execution_count": 11,
   "metadata": {},
   "outputs": [],
   "source": [
    "#bagging\n",
    "#from sklearn.ensemble import RandomForestClassifier\n",
    "\n",
    "#model = RandomForestClassifier(n_estimators=100 , random_state=42)\n",
    "#model"
   ]
  },
  {
   "cell_type": "code",
   "execution_count": 12,
   "metadata": {},
   "outputs": [],
   "source": [
    "#boosting\n",
    "#from sklearn.ensemble import GradientBoostingClassifier\n",
    "\n",
    "#model = GradientBoostingClassifier(random_state=42)\n",
    "#model"
   ]
  },
  {
   "cell_type": "markdown",
   "metadata": {},
   "source": [
    "Random Search"
   ]
  },
  {
   "cell_type": "code",
   "execution_count": 13,
   "metadata": {},
   "outputs": [
    {
     "data": {
      "text/plain": [
       "[DecisionTreeClassifier(random_state=42),\n",
       " RandomForestClassifier(random_state=42),\n",
       " GradientBoostingClassifier(random_state=42)]"
      ]
     },
     "execution_count": 13,
     "metadata": {},
     "output_type": "execute_result"
    }
   ],
   "source": [
    "from sklearn.tree import DecisionTreeClassifier\n",
    "from sklearn.ensemble import RandomForestClassifier, GradientBoostingClassifier\n",
    "\n",
    "estimators = [DecisionTreeClassifier(random_state=42),\n",
    "RandomForestClassifier(random_state=42),\n",
    "GradientBoostingClassifier(random_state=42)\n",
    "]\n",
    "estimators"
   ]
  },
  {
   "cell_type": "code",
   "execution_count": 16,
   "metadata": {},
   "outputs": [
    {
     "data": {
      "text/plain": [
       "['DecisionTreeClassifier',\n",
       " 'RandomForestClassifier',\n",
       " 'GradientBoostingClassifier']"
      ]
     },
     "execution_count": 16,
     "metadata": {},
     "output_type": "execute_result"
    }
   ],
   "source": [
    "result = []\n",
    "for estimator in estimators:\n",
    "    result.append(estimator.__class__.__name__)\n",
    "result"
   ]
  },
  {
   "cell_type": "code",
   "execution_count": 17,
   "metadata": {},
   "outputs": [
    {
     "name": "stdout",
     "output_type": "stream",
     "text": [
      "Fitting 5 folds for each of 100 candidates, totalling 500 fits\n"
     ]
    },
    {
     "name": "stderr",
     "output_type": "stream",
     "text": [
      "[Parallel(n_jobs=-1)]: Using backend LokyBackend with 4 concurrent workers.\n",
      "[Parallel(n_jobs=-1)]: Done  33 tasks      | elapsed:    6.4s\n",
      "[Parallel(n_jobs=-1)]: Done 500 out of 500 | elapsed:    9.0s finished\n",
      "[Parallel(n_jobs=-1)]: Using backend LokyBackend with 4 concurrent workers.\n"
     ]
    },
    {
     "name": "stdout",
     "output_type": "stream",
     "text": [
      "Fitting 5 folds for each of 100 candidates, totalling 500 fits\n"
     ]
    },
    {
     "name": "stderr",
     "output_type": "stream",
     "text": [
      "[Parallel(n_jobs=-1)]: Done  33 tasks      | elapsed:    5.8s\n",
      "[Parallel(n_jobs=-1)]: Done 154 tasks      | elapsed:   25.8s\n",
      "[Parallel(n_jobs=-1)]: Done 357 tasks      | elapsed:   59.1s\n",
      "[Parallel(n_jobs=-1)]: Done 500 out of 500 | elapsed:  1.4min finished\n"
     ]
    },
    {
     "name": "stdout",
     "output_type": "stream",
     "text": [
      "Fitting 5 folds for each of 100 candidates, totalling 500 fits\n"
     ]
    },
    {
     "name": "stderr",
     "output_type": "stream",
     "text": [
      "[Parallel(n_jobs=-1)]: Using backend LokyBackend with 4 concurrent workers.\n",
      "[Parallel(n_jobs=-1)]: Done  33 tasks      | elapsed:   13.9s\n",
      "[Parallel(n_jobs=-1)]: Done 154 tasks      | elapsed:   59.7s\n",
      "[Parallel(n_jobs=-1)]: Done 357 tasks      | elapsed:  2.2min\n",
      "[Parallel(n_jobs=-1)]: Done 500 out of 500 | elapsed:  3.2min finished\n"
     ]
    }
   ],
   "source": [
    "from sklearn.model_selection import RandomizedSearchCV\n",
    "\n",
    "max_depth = np.random.randint(2, 20, 10)\n",
    "max_features = np.random.uniform(0.3, 1.0, 10)\n",
    "\n",
    "param_distributions = {\"max_depth\": max_depth,\n",
    "\"max_features\": max_features}\n",
    "\n",
    "results = []\n",
    "for estimator in estimators:\n",
    "    result = []\n",
    "    if estimator.__class__.__name__ != 'DecisionTreeClassifier':\n",
    "        param_distributions[\"n_estimators\"] = np.random.randint(100, 200, 10)\n",
    "        \n",
    "    clf = RandomizedSearchCV(estimator, \n",
    "                       param_distributions, \n",
    "                       n_iter=100,\n",
    "                       scoring=\"accuracy\",\n",
    "                       n_jobs=-1,\n",
    "                       cv=5, \n",
    "                       verbose=2\n",
    "                      )\n",
    "\n",
    "    clf.fit(X_train, y_train)\n",
    "    result.append(estimator.__class__.__name__)\n",
    "    result.append(clf.best_params_)\n",
    "    result.append(clf.best_score_)\n",
    "    result.append(clf.score(X_test, y_test))\n",
    "    result.append(clf.cv_results_)\n",
    "    results.append(result)"
   ]
  },
  {
   "cell_type": "code",
   "execution_count": 18,
   "metadata": {},
   "outputs": [
    {
     "data": {
      "text/html": [
       "<div>\n",
       "<style scoped>\n",
       "    .dataframe tbody tr th:only-of-type {\n",
       "        vertical-align: middle;\n",
       "    }\n",
       "\n",
       "    .dataframe tbody tr th {\n",
       "        vertical-align: top;\n",
       "    }\n",
       "\n",
       "    .dataframe thead th {\n",
       "        text-align: right;\n",
       "    }\n",
       "</style>\n",
       "<table border=\"1\" class=\"dataframe\">\n",
       "  <thead>\n",
       "    <tr style=\"text-align: right;\">\n",
       "      <th></th>\n",
       "      <th>estimator</th>\n",
       "      <th>best_params</th>\n",
       "      <th>train_score</th>\n",
       "      <th>test_score</th>\n",
       "      <th>cv_result</th>\n",
       "    </tr>\n",
       "  </thead>\n",
       "  <tbody>\n",
       "    <tr>\n",
       "      <th>0</th>\n",
       "      <td>DecisionTreeClassifier</td>\n",
       "      <td>{'max_features': 0.3553526763105135, 'max_dept...</td>\n",
       "      <td>0.859963</td>\n",
       "      <td>0.857143</td>\n",
       "      <td>{'mean_fit_time': [0.012196922302246093, 0.012...</td>\n",
       "    </tr>\n",
       "    <tr>\n",
       "      <th>1</th>\n",
       "      <td>RandomForestClassifier</td>\n",
       "      <td>{'n_estimators': 199, 'max_features': 0.629697...</td>\n",
       "      <td>0.905611</td>\n",
       "      <td>0.863636</td>\n",
       "      <td>{'mean_fit_time': [0.46675987243652345, 0.7750...</td>\n",
       "    </tr>\n",
       "    <tr>\n",
       "      <th>2</th>\n",
       "      <td>GradientBoostingClassifier</td>\n",
       "      <td>{'n_estimators': 132, 'max_features': 0.544070...</td>\n",
       "      <td>0.905598</td>\n",
       "      <td>0.857143</td>\n",
       "      <td>{'mean_fit_time': [1.4165439128875732, 2.19760...</td>\n",
       "    </tr>\n",
       "  </tbody>\n",
       "</table>\n",
       "</div>"
      ],
      "text/plain": [
       "                    estimator  \\\n",
       "0      DecisionTreeClassifier   \n",
       "1      RandomForestClassifier   \n",
       "2  GradientBoostingClassifier   \n",
       "\n",
       "                                         best_params  train_score  test_score  \\\n",
       "0  {'max_features': 0.3553526763105135, 'max_dept...     0.859963    0.857143   \n",
       "1  {'n_estimators': 199, 'max_features': 0.629697...     0.905611    0.863636   \n",
       "2  {'n_estimators': 132, 'max_features': 0.544070...     0.905598    0.857143   \n",
       "\n",
       "                                           cv_result  \n",
       "0  {'mean_fit_time': [0.012196922302246093, 0.012...  \n",
       "1  {'mean_fit_time': [0.46675987243652345, 0.7750...  \n",
       "2  {'mean_fit_time': [1.4165439128875732, 2.19760...  "
      ]
     },
     "execution_count": 18,
     "metadata": {},
     "output_type": "execute_result"
    }
   ],
   "source": [
    "df = pd.DataFrame(results, \n",
    "             columns=[\"estimator\", \"best_params\", \"train_score\", \"test_score\", \"cv_result\"])\n",
    "df"
   ]
  },
  {
   "cell_type": "code",
   "execution_count": 20,
   "metadata": {},
   "outputs": [
    {
     "data": {
      "text/html": [
       "<div>\n",
       "<style scoped>\n",
       "    .dataframe tbody tr th:only-of-type {\n",
       "        vertical-align: middle;\n",
       "    }\n",
       "\n",
       "    .dataframe tbody tr th {\n",
       "        vertical-align: top;\n",
       "    }\n",
       "\n",
       "    .dataframe thead th {\n",
       "        text-align: right;\n",
       "    }\n",
       "</style>\n",
       "<table border=\"1\" class=\"dataframe\">\n",
       "  <thead>\n",
       "    <tr style=\"text-align: right;\">\n",
       "      <th></th>\n",
       "      <th>mean_fit_time</th>\n",
       "      <th>std_fit_time</th>\n",
       "      <th>mean_score_time</th>\n",
       "      <th>std_score_time</th>\n",
       "      <th>param_n_estimators</th>\n",
       "      <th>param_max_features</th>\n",
       "      <th>param_max_depth</th>\n",
       "      <th>params</th>\n",
       "      <th>split0_test_score</th>\n",
       "      <th>split1_test_score</th>\n",
       "      <th>split2_test_score</th>\n",
       "      <th>split3_test_score</th>\n",
       "      <th>split4_test_score</th>\n",
       "      <th>mean_test_score</th>\n",
       "      <th>std_test_score</th>\n",
       "      <th>rank_test_score</th>\n",
       "    </tr>\n",
       "  </thead>\n",
       "  <tbody>\n",
       "    <tr>\n",
       "      <th>91</th>\n",
       "      <td>1.150542</td>\n",
       "      <td>0.173028</td>\n",
       "      <td>0.087675</td>\n",
       "      <td>0.024231</td>\n",
       "      <td>199</td>\n",
       "      <td>0.629697</td>\n",
       "      <td>14</td>\n",
       "      <td>{'n_estimators': 199, 'max_features': 0.629697...</td>\n",
       "      <td>0.878049</td>\n",
       "      <td>0.934959</td>\n",
       "      <td>0.861789</td>\n",
       "      <td>0.902439</td>\n",
       "      <td>0.950820</td>\n",
       "      <td>0.905611</td>\n",
       "      <td>0.033452</td>\n",
       "      <td>1</td>\n",
       "    </tr>\n",
       "    <tr>\n",
       "      <th>98</th>\n",
       "      <td>0.953901</td>\n",
       "      <td>0.015442</td>\n",
       "      <td>0.061980</td>\n",
       "      <td>0.006954</td>\n",
       "      <td>199</td>\n",
       "      <td>0.734603</td>\n",
       "      <td>13</td>\n",
       "      <td>{'n_estimators': 199, 'max_features': 0.734602...</td>\n",
       "      <td>0.869919</td>\n",
       "      <td>0.934959</td>\n",
       "      <td>0.861789</td>\n",
       "      <td>0.910569</td>\n",
       "      <td>0.950820</td>\n",
       "      <td>0.905611</td>\n",
       "      <td>0.034997</td>\n",
       "      <td>1</td>\n",
       "    </tr>\n",
       "    <tr>\n",
       "      <th>1</th>\n",
       "      <td>0.775077</td>\n",
       "      <td>0.010990</td>\n",
       "      <td>0.046385</td>\n",
       "      <td>0.003007</td>\n",
       "      <td>175</td>\n",
       "      <td>0.731587</td>\n",
       "      <td>11</td>\n",
       "      <td>{'n_estimators': 175, 'max_features': 0.731586...</td>\n",
       "      <td>0.861789</td>\n",
       "      <td>0.934959</td>\n",
       "      <td>0.869919</td>\n",
       "      <td>0.910569</td>\n",
       "      <td>0.942623</td>\n",
       "      <td>0.903972</td>\n",
       "      <td>0.032975</td>\n",
       "      <td>3</td>\n",
       "    </tr>\n",
       "    <tr>\n",
       "      <th>80</th>\n",
       "      <td>0.575815</td>\n",
       "      <td>0.018723</td>\n",
       "      <td>0.033790</td>\n",
       "      <td>0.001327</td>\n",
       "      <td>130</td>\n",
       "      <td>0.731587</td>\n",
       "      <td>11</td>\n",
       "      <td>{'n_estimators': 130, 'max_features': 0.731586...</td>\n",
       "      <td>0.861789</td>\n",
       "      <td>0.934959</td>\n",
       "      <td>0.869919</td>\n",
       "      <td>0.910569</td>\n",
       "      <td>0.942623</td>\n",
       "      <td>0.903972</td>\n",
       "      <td>0.032975</td>\n",
       "      <td>3</td>\n",
       "    </tr>\n",
       "    <tr>\n",
       "      <th>79</th>\n",
       "      <td>0.574016</td>\n",
       "      <td>0.016088</td>\n",
       "      <td>0.035589</td>\n",
       "      <td>0.003321</td>\n",
       "      <td>130</td>\n",
       "      <td>0.734603</td>\n",
       "      <td>11</td>\n",
       "      <td>{'n_estimators': 130, 'max_features': 0.734602...</td>\n",
       "      <td>0.861789</td>\n",
       "      <td>0.934959</td>\n",
       "      <td>0.869919</td>\n",
       "      <td>0.910569</td>\n",
       "      <td>0.942623</td>\n",
       "      <td>0.903972</td>\n",
       "      <td>0.032975</td>\n",
       "      <td>3</td>\n",
       "    </tr>\n",
       "  </tbody>\n",
       "</table>\n",
       "</div>"
      ],
      "text/plain": [
       "    mean_fit_time  std_fit_time  mean_score_time  std_score_time  \\\n",
       "91       1.150542      0.173028         0.087675        0.024231   \n",
       "98       0.953901      0.015442         0.061980        0.006954   \n",
       "1        0.775077      0.010990         0.046385        0.003007   \n",
       "80       0.575815      0.018723         0.033790        0.001327   \n",
       "79       0.574016      0.016088         0.035589        0.003321   \n",
       "\n",
       "   param_n_estimators param_max_features param_max_depth  \\\n",
       "91                199           0.629697              14   \n",
       "98                199           0.734603              13   \n",
       "1                 175           0.731587              11   \n",
       "80                130           0.731587              11   \n",
       "79                130           0.734603              11   \n",
       "\n",
       "                                               params  split0_test_score  \\\n",
       "91  {'n_estimators': 199, 'max_features': 0.629697...           0.878049   \n",
       "98  {'n_estimators': 199, 'max_features': 0.734602...           0.869919   \n",
       "1   {'n_estimators': 175, 'max_features': 0.731586...           0.861789   \n",
       "80  {'n_estimators': 130, 'max_features': 0.731586...           0.861789   \n",
       "79  {'n_estimators': 130, 'max_features': 0.734602...           0.861789   \n",
       "\n",
       "    split1_test_score  split2_test_score  split3_test_score  \\\n",
       "91           0.934959           0.861789           0.902439   \n",
       "98           0.934959           0.861789           0.910569   \n",
       "1            0.934959           0.869919           0.910569   \n",
       "80           0.934959           0.869919           0.910569   \n",
       "79           0.934959           0.869919           0.910569   \n",
       "\n",
       "    split4_test_score  mean_test_score  std_test_score  rank_test_score  \n",
       "91           0.950820         0.905611        0.033452                1  \n",
       "98           0.950820         0.905611        0.034997                1  \n",
       "1            0.942623         0.903972        0.032975                3  \n",
       "80           0.942623         0.903972        0.032975                3  \n",
       "79           0.942623         0.903972        0.032975                3  "
      ]
     },
     "execution_count": 20,
     "metadata": {},
     "output_type": "execute_result"
    }
   ],
   "source": [
    "pd.DataFrame(df.loc[1, \"cv_result\"]).sort_values(by=\"rank_test_score\").head()"
   ]
  },
  {
   "cell_type": "code",
   "execution_count": null,
   "metadata": {},
   "outputs": [],
   "source": []
  }
 ],
 "metadata": {
  "kernelspec": {
   "display_name": "Python 3",
   "language": "python",
   "name": "python3"
  },
  "language_info": {
   "codemirror_mode": {
    "name": "ipython",
    "version": 3
   },
   "file_extension": ".py",
   "mimetype": "text/x-python",
   "name": "python",
   "nbconvert_exporter": "python",
   "pygments_lexer": "ipython3",
   "version": "3.6.8"
  }
 },
 "nbformat": 4,
 "nbformat_minor": 4
}
