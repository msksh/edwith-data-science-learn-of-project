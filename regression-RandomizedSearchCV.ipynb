{
 "cells": [
  {
   "cell_type": "markdown",
   "metadata": {},
   "source": [
    "라이브러리 로드"
   ]
  },
  {
   "cell_type": "code",
   "execution_count": 42,
   "metadata": {},
   "outputs": [],
   "source": [
    "import pandas as pd\n",
    "import numpy as np\n",
    "import seaborn as sns\n",
    "import matplotlib.pyplot as plt\n",
    "\n",
    "%matplotlib inline"
   ]
  },
  {
   "cell_type": "raw",
   "metadata": {},
   "source": [
    "데이터로드"
   ]
  },
  {
   "cell_type": "code",
   "execution_count": 43,
   "metadata": {},
   "outputs": [
    {
     "data": {
      "text/plain": [
       "(768, 9)"
      ]
     },
     "execution_count": 43,
     "metadata": {},
     "output_type": "execute_result"
    }
   ],
   "source": [
    "df = pd.read_csv(\"data/diabetes.csv\")\n",
    "df.shape"
   ]
  },
  {
   "cell_type": "code",
   "execution_count": 44,
   "metadata": {},
   "outputs": [
    {
     "data": {
      "text/html": [
       "<div>\n",
       "<style scoped>\n",
       "    .dataframe tbody tr th:only-of-type {\n",
       "        vertical-align: middle;\n",
       "    }\n",
       "\n",
       "    .dataframe tbody tr th {\n",
       "        vertical-align: top;\n",
       "    }\n",
       "\n",
       "    .dataframe thead th {\n",
       "        text-align: right;\n",
       "    }\n",
       "</style>\n",
       "<table border=\"1\" class=\"dataframe\">\n",
       "  <thead>\n",
       "    <tr style=\"text-align: right;\">\n",
       "      <th></th>\n",
       "      <th>Pregnancies</th>\n",
       "      <th>Glucose</th>\n",
       "      <th>BloodPressure</th>\n",
       "      <th>SkinThickness</th>\n",
       "      <th>Insulin</th>\n",
       "      <th>BMI</th>\n",
       "      <th>DiabetesPedigreeFunction</th>\n",
       "      <th>Age</th>\n",
       "      <th>Outcome</th>\n",
       "    </tr>\n",
       "  </thead>\n",
       "  <tbody>\n",
       "    <tr>\n",
       "      <th>0</th>\n",
       "      <td>6</td>\n",
       "      <td>148</td>\n",
       "      <td>72</td>\n",
       "      <td>35</td>\n",
       "      <td>0</td>\n",
       "      <td>33.6</td>\n",
       "      <td>0.627</td>\n",
       "      <td>50</td>\n",
       "      <td>1</td>\n",
       "    </tr>\n",
       "    <tr>\n",
       "      <th>1</th>\n",
       "      <td>1</td>\n",
       "      <td>85</td>\n",
       "      <td>66</td>\n",
       "      <td>29</td>\n",
       "      <td>0</td>\n",
       "      <td>26.6</td>\n",
       "      <td>0.351</td>\n",
       "      <td>31</td>\n",
       "      <td>0</td>\n",
       "    </tr>\n",
       "    <tr>\n",
       "      <th>2</th>\n",
       "      <td>8</td>\n",
       "      <td>183</td>\n",
       "      <td>64</td>\n",
       "      <td>0</td>\n",
       "      <td>0</td>\n",
       "      <td>23.3</td>\n",
       "      <td>0.672</td>\n",
       "      <td>32</td>\n",
       "      <td>1</td>\n",
       "    </tr>\n",
       "    <tr>\n",
       "      <th>3</th>\n",
       "      <td>1</td>\n",
       "      <td>89</td>\n",
       "      <td>66</td>\n",
       "      <td>23</td>\n",
       "      <td>94</td>\n",
       "      <td>28.1</td>\n",
       "      <td>0.167</td>\n",
       "      <td>21</td>\n",
       "      <td>0</td>\n",
       "    </tr>\n",
       "    <tr>\n",
       "      <th>4</th>\n",
       "      <td>0</td>\n",
       "      <td>137</td>\n",
       "      <td>40</td>\n",
       "      <td>35</td>\n",
       "      <td>168</td>\n",
       "      <td>43.1</td>\n",
       "      <td>2.288</td>\n",
       "      <td>33</td>\n",
       "      <td>1</td>\n",
       "    </tr>\n",
       "  </tbody>\n",
       "</table>\n",
       "</div>"
      ],
      "text/plain": [
       "   Pregnancies  Glucose  BloodPressure  SkinThickness  Insulin   BMI  \\\n",
       "0            6      148             72             35        0  33.6   \n",
       "1            1       85             66             29        0  26.6   \n",
       "2            8      183             64              0        0  23.3   \n",
       "3            1       89             66             23       94  28.1   \n",
       "4            0      137             40             35      168  43.1   \n",
       "\n",
       "   DiabetesPedigreeFunction  Age  Outcome  \n",
       "0                     0.627   50        1  \n",
       "1                     0.351   31        0  \n",
       "2                     0.672   32        1  \n",
       "3                     0.167   21        0  \n",
       "4                     2.288   33        1  "
      ]
     },
     "execution_count": 44,
     "metadata": {},
     "output_type": "execute_result"
    }
   ],
   "source": [
    "df.head()"
   ]
  },
  {
   "cell_type": "markdown",
   "metadata": {},
   "source": [
    "학습,예측 데이터셋 나누기"
   ]
  },
  {
   "cell_type": "code",
   "execution_count": 45,
   "metadata": {},
   "outputs": [
    {
     "data": {
      "text/plain": [
       "True     394\n",
       "False    374\n",
       "Name: Insulin, dtype: int64"
      ]
     },
     "execution_count": 45,
     "metadata": {},
     "output_type": "execute_result"
    }
   ],
   "source": [
    "(df[\"Insulin\"]>0).value_counts()"
   ]
  },
  {
   "cell_type": "code",
   "execution_count": 46,
   "metadata": {},
   "outputs": [
    {
     "data": {
      "text/plain": [
       "(394, 9)"
      ]
     },
     "execution_count": 46,
     "metadata": {},
     "output_type": "execute_result"
    }
   ],
   "source": [
    "#train 세트를 만들기\n",
    "train = df[df[\"Insulin\"]>0].copy()\n",
    "train.shape"
   ]
  },
  {
   "cell_type": "code",
   "execution_count": 47,
   "metadata": {},
   "outputs": [
    {
     "data": {
      "text/plain": [
       "(374, 9)"
      ]
     },
     "execution_count": 47,
     "metadata": {},
     "output_type": "execute_result"
    }
   ],
   "source": [
    "#test 세트를 만들기\n",
    "\n",
    "test = df[df[\"Insulin\"] == 0].copy()\n",
    "test.shape"
   ]
  },
  {
   "cell_type": "markdown",
   "metadata": {},
   "source": [
    "EDA"
   ]
  },
  {
   "cell_type": "code",
   "execution_count": 48,
   "metadata": {},
   "outputs": [
    {
     "name": "stderr",
     "output_type": "stream",
     "text": [
      "c:\\users\\kim\\appdata\\local\\programs\\python\\python36\\lib\\site-packages\\seaborn\\distributions.py:2551: FutureWarning: `distplot` is a deprecated function and will be removed in a future version. Please adapt your code to use either `displot` (a figure-level function with similar flexibility) or `histplot` (an axes-level function for histograms).\n",
      "  warnings.warn(msg, FutureWarning)\n"
     ]
    },
    {
     "data": {
      "text/plain": [
       "<AxesSubplot:xlabel='Insulin', ylabel='Density'>"
      ]
     },
     "execution_count": 48,
     "metadata": {},
     "output_type": "execute_result"
    },
    {
     "data": {
      "image/png": "[encoded data removed]",
      "text/plain": [
       "<Figure size 432x288 with 1 Axes>"
      ]
     },
     "metadata": {
      "needs_background": "light"
     },
     "output_type": "display_data"
    }
   ],
   "source": [
    "sns.distplot(train[\"Insulin\"])"
   ]
  },
  {
   "cell_type": "code",
   "execution_count": 49,
   "metadata": {},
   "outputs": [
    {
     "name": "stderr",
     "output_type": "stream",
     "text": [
      "c:\\users\\kim\\appdata\\local\\programs\\python\\python36\\lib\\site-packages\\seaborn\\_decorators.py:43: FutureWarning: Pass the following variable as a keyword arg: x. From version 0.12, the only valid positional argument will be `data`, and passing other arguments without an explicit keyword will result in an error or misinterpretation.\n",
      "  FutureWarning\n"
     ]
    },
    {
     "data": {
      "text/plain": [
       "<AxesSubplot:xlabel='Insulin'>"
      ]
     },
     "execution_count": 49,
     "metadata": {},
     "output_type": "execute_result"
    },
    {
     "data": {
      "image/png": "[encoded data removed]",
      "text/plain": [
       "<Figure size 432x288 with 1 Axes>"
      ]
     },
     "metadata": {
      "needs_background": "light"
     },
     "output_type": "display_data"
    }
   ],
   "source": [
    "sns.boxplot(train[\"Insulin\"])"
   ]
  },
  {
   "cell_type": "code",
   "execution_count": 50,
   "metadata": {
    "scrolled": false
   },
   "outputs": [
    {
     "data": {
      "text/plain": [
       "count    394.000000\n",
       "mean     155.548223\n",
       "std      118.775855\n",
       "min       14.000000\n",
       "25%       76.250000\n",
       "50%      125.000000\n",
       "75%      190.000000\n",
       "max      846.000000\n",
       "Name: Insulin, dtype: float64"
      ]
     },
     "execution_count": 50,
     "metadata": {},
     "output_type": "execute_result"
    }
   ],
   "source": [
    "desc = train[\"Insulin\"].describe()\n",
    "desc"
   ]
  },
  {
   "cell_type": "code",
   "execution_count": 51,
   "metadata": {},
   "outputs": [],
   "source": [
    "#IQR : 3IQR-1IQR\n",
    "#OUT > 3IQR+(IQR * 1.5)\n",
    "IQR = desc.loc[\"75%\"] - desc.loc[\"25%\"]\n",
    "OUT = desc.loc[\"75%\"] + (IQR*1.5)"
   ]
  },
  {
   "cell_type": "code",
   "execution_count": 52,
   "metadata": {},
   "outputs": [
    {
     "data": {
      "text/plain": [
       "(24, 9)"
      ]
     },
     "execution_count": 52,
     "metadata": {},
     "output_type": "execute_result"
    }
   ],
   "source": [
    "train[train[\"Insulin\"]>OUT].shape"
   ]
  },
  {
   "cell_type": "code",
   "execution_count": 53,
   "metadata": {},
   "outputs": [
    {
     "name": "stdout",
     "output_type": "stream",
     "text": [
      "(394, 9)\n"
     ]
    },
    {
     "data": {
      "text/plain": [
       "(370, 9)"
      ]
     },
     "execution_count": 53,
     "metadata": {},
     "output_type": "execute_result"
    }
   ],
   "source": [
    "print(train.shape)\n",
    "train = train[train[\"Insulin\"]<OUT]\n",
    "train.shape"
   ]
  },
  {
   "cell_type": "code",
   "execution_count": null,
   "metadata": {},
   "outputs": [],
   "source": []
  },
  {
   "cell_type": "markdown",
   "metadata": {},
   "source": [
    "학습,예측에 사용할 컬럼"
   ]
  },
  {
   "cell_type": "code",
   "execution_count": 54,
   "metadata": {},
   "outputs": [
    {
     "data": {
      "text/plain": [
       "['Pregnancies',\n",
       " 'Glucose',\n",
       " 'BloodPressure',\n",
       " 'SkinThickness',\n",
       " 'BMI',\n",
       " 'DiabetesPedigreeFunction',\n",
       " 'Age',\n",
       " 'Outcome']"
      ]
     },
     "execution_count": 54,
     "metadata": {},
     "output_type": "execute_result"
    }
   ],
   "source": [
    "#feature_names 라는 변수에 학습과 예측에 사용할 컬럼명을 가져온다.\n",
    "feature_names = test.columns.tolist()\n",
    "feature_names.remove(\"Insulin\")\n",
    "feature_names"
   ]
  },
  {
   "cell_type": "markdown",
   "metadata": {},
   "source": [
    "정답값이자 예측해야될값"
   ]
  },
  {
   "cell_type": "code",
   "execution_count": 55,
   "metadata": {},
   "outputs": [
    {
     "data": {
      "text/plain": [
       "'Insulin'"
      ]
     },
     "execution_count": 55,
     "metadata": {},
     "output_type": "execute_result"
    }
   ],
   "source": [
    "#label_name 이라는 변수에 예측할 컬럼의 이름을 담는다.\n",
    "\n",
    "label_name = \"Insulin\"\n",
    "label_name"
   ]
  },
  {
   "cell_type": "markdown",
   "metadata": {},
   "source": [
    "학습,예측 데이터셋만들기"
   ]
  },
  {
   "cell_type": "code",
   "execution_count": 56,
   "metadata": {},
   "outputs": [
    {
     "data": {
      "text/plain": [
       "(370, 8)"
      ]
     },
     "execution_count": 56,
     "metadata": {},
     "output_type": "execute_result"
    }
   ],
   "source": [
    "#학습세트만들기\n",
    "X_train = train[feature_names]\n",
    "X_train.shape"
   ]
  },
  {
   "cell_type": "code",
   "execution_count": 57,
   "metadata": {},
   "outputs": [
    {
     "data": {
      "text/plain": [
       "(370,)"
      ]
     },
     "execution_count": 57,
     "metadata": {},
     "output_type": "execute_result"
    }
   ],
   "source": [
    "#정답값 만들기\n",
    "y_train = train[label_name]\n",
    "y_train.shape"
   ]
  },
  {
   "cell_type": "code",
   "execution_count": 58,
   "metadata": {},
   "outputs": [
    {
     "data": {
      "text/plain": [
       "(374, 8)"
      ]
     },
     "execution_count": 58,
     "metadata": {},
     "output_type": "execute_result"
    }
   ],
   "source": [
    "#예측에 사요할 데이터세트\n",
    "X_test = test[feature_names]\n",
    "X_test.shape"
   ]
  },
  {
   "cell_type": "code",
   "execution_count": 59,
   "metadata": {},
   "outputs": [
    {
     "data": {
      "text/plain": [
       "(374,)"
      ]
     },
     "execution_count": 59,
     "metadata": {},
     "output_type": "execute_result"
    }
   ],
   "source": [
    "\n",
    "#예측의 정답값\n",
    "y_test = test[label_name]\n",
    "y_test.shape"
   ]
  },
  {
   "cell_type": "markdown",
   "metadata": {},
   "source": [
    "머신러닝 알고리즘 가져오기"
   ]
  },
  {
   "cell_type": "code",
   "execution_count": 60,
   "metadata": {},
   "outputs": [
    {
     "data": {
      "text/plain": [
       "[DecisionTreeRegressor(random_state=42),\n",
       " RandomForestRegressor(random_state=42),\n",
       " GradientBoostingRegressor(random_state=42)]"
      ]
     },
     "execution_count": 60,
     "metadata": {},
     "output_type": "execute_result"
    }
   ],
   "source": [
    "from sklearn.tree import DecisionTreeRegressor\n",
    "from sklearn.ensemble import RandomForestRegressor, GradientBoostingRegressor\n",
    "\n",
    "estimators = [DecisionTreeRegressor(random_state=42),\n",
    "                      RandomForestRegressor(random_state=42),\n",
    "                      GradientBoostingRegressor(random_state=42)]\n",
    "estimators\n"
   ]
  },
  {
   "cell_type": "code",
   "execution_count": 61,
   "metadata": {},
   "outputs": [
    {
     "data": {
      "text/plain": [
       "array([11, 11, 24, 17,  6, 11,  5, 29,  5,  8])"
      ]
     },
     "execution_count": 61,
     "metadata": {},
     "output_type": "execute_result"
    }
   ],
   "source": [
    "max_depth = np.random.randint(5, 30, 10)\n",
    "max_depth\n",
    " "
   ]
  },
  {
   "cell_type": "code",
   "execution_count": 62,
   "metadata": {},
   "outputs": [
    {
     "data": {
      "text/plain": [
       "array([0.63972163, 0.81222063, 0.8616861 , 0.95005594, 0.77784424,\n",
       "       0.67760502, 0.87299554, 0.5947103 , 0.33386014, 0.48724567])"
      ]
     },
     "execution_count": 62,
     "metadata": {},
     "output_type": "execute_result"
    }
   ],
   "source": [
    "max_features = np.random.uniform(0.3, 1.0, 10)\n",
    "max_features"
   ]
  },
  {
   "cell_type": "code",
   "execution_count": 63,
   "metadata": {},
   "outputs": [
    {
     "data": {
      "text/html": [
       "<div>\n",
       "<style scoped>\n",
       "    .dataframe tbody tr th:only-of-type {\n",
       "        vertical-align: middle;\n",
       "    }\n",
       "\n",
       "    .dataframe tbody tr th {\n",
       "        vertical-align: top;\n",
       "    }\n",
       "\n",
       "    .dataframe thead th {\n",
       "        text-align: right;\n",
       "    }\n",
       "</style>\n",
       "<table border=\"1\" class=\"dataframe\">\n",
       "  <thead>\n",
       "    <tr style=\"text-align: right;\">\n",
       "      <th></th>\n",
       "      <th>0</th>\n",
       "    </tr>\n",
       "  </thead>\n",
       "  <tbody>\n",
       "    <tr>\n",
       "      <th>0</th>\n",
       "      <td>DecisionTreeRegressor</td>\n",
       "    </tr>\n",
       "    <tr>\n",
       "      <th>1</th>\n",
       "      <td>RandomForestRegressor</td>\n",
       "    </tr>\n",
       "    <tr>\n",
       "      <th>2</th>\n",
       "      <td>GradientBoostingRegressor</td>\n",
       "    </tr>\n",
       "  </tbody>\n",
       "</table>\n",
       "</div>"
      ],
      "text/plain": [
       "                           0\n",
       "0      DecisionTreeRegressor\n",
       "1      RandomForestRegressor\n",
       "2  GradientBoostingRegressor"
      ]
     },
     "execution_count": 63,
     "metadata": {},
     "output_type": "execute_result"
    }
   ],
   "source": [
    "results = []\n",
    "for estimator in estimators:\n",
    "    result = []\n",
    "    result.append(estimator.__class__.__name__)\n",
    "    results.append(result)\n",
    "pd.DataFrame(results)"
   ]
  },
  {
   "cell_type": "code",
   "execution_count": 72,
   "metadata": {},
   "outputs": [
    {
     "name": "stdout",
     "output_type": "stream",
     "text": [
      "Fitting 5 folds for each of 10 candidates, totalling 50 fits\n",
      "[CV] max_features=0.6474914317028659, max_depth=18 ...................\n",
      "[CV] .... max_features=0.6474914317028659, max_depth=18, total=   0.0s\n",
      "[CV] max_features=0.6474914317028659, max_depth=18 ...................\n",
      "[CV] .... max_features=0.6474914317028659, max_depth=18, total=   0.0s\n",
      "[CV] max_features=0.6474914317028659, max_depth=18 ...................\n",
      "[CV] .... max_features=0.6474914317028659, max_depth=18, total=   0.0s\n",
      "[CV] max_features=0.6474914317028659, max_depth=18 ...................\n",
      "[CV] .... max_features=0.6474914317028659, max_depth=18, total=   0.0s\n",
      "[CV] max_features=0.6474914317028659, max_depth=18 ...................\n",
      "[CV] .... max_features=0.6474914317028659, max_depth=18, total=   0.0s\n",
      "[CV] max_features=0.6474914317028659, max_depth=5 ....................\n",
      "[CV] ..... max_features=0.6474914317028659, max_depth=5, total=   0.0s\n",
      "[CV] max_features=0.6474914317028659, max_depth=5 ....................\n",
      "[CV] ..... max_features=0.6474914317028659, max_depth=5, total=   0.0s\n",
      "[CV] max_features=0.6474914317028659, max_depth=5 ....................\n",
      "[CV] ..... max_features=0.6474914317028659, max_depth=5, total=   0.0s\n",
      "[CV] max_features=0.6474914317028659, max_depth=5 ....................\n",
      "[CV] ..... max_features=0.6474914317028659, max_depth=5, total=   0.0s\n",
      "[CV] max_features=0.6474914317028659, max_depth=5 ....................\n",
      "[CV] ..... max_features=0.6474914317028659, max_depth=5, total=   0.0s\n",
      "[CV] max_features=0.9191945477306147, max_depth=14 ...................\n",
      "[CV] .... max_features=0.9191945477306147, max_depth=14, total=   0.0s\n",
      "[CV] max_features=0.9191945477306147, max_depth=14 ...................\n",
      "[CV] .... max_features=0.9191945477306147, max_depth=14, total=   0.0s\n",
      "[CV] max_features=0.9191945477306147, max_depth=14 ...................\n",
      "[CV] .... max_features=0.9191945477306147, max_depth=14, total=   0.0s\n",
      "[CV] max_features=0.9191945477306147, max_depth=14 ...................\n",
      "[CV] .... max_features=0.9191945477306147, max_depth=14, total=   0.0s\n",
      "[CV] max_features=0.9191945477306147, max_depth=14 ...................\n",
      "[CV] .... max_features=0.9191945477306147, max_depth=14, total=   0.0s"
     ]
    },
    {
     "name": "stderr",
     "output_type": "stream",
     "text": [
      "[Parallel(n_jobs=1)]: Using backend SequentialBackend with 1 concurrent workers.\n",
      "[Parallel(n_jobs=1)]: Done   1 out of   1 | elapsed:    0.0s remaining:    0.0s\n"
     ]
    },
    {
     "name": "stdout",
     "output_type": "stream",
     "text": [
      "\n",
      "[CV] max_features=0.9941037647662272, max_depth=19 ...................\n",
      "[CV] .... max_features=0.9941037647662272, max_depth=19, total=   0.0s\n",
      "[CV] max_features=0.9941037647662272, max_depth=19 ...................\n",
      "[CV] .... max_features=0.9941037647662272, max_depth=19, total=   0.0s\n",
      "[CV] max_features=0.9941037647662272, max_depth=19 ...................\n",
      "[CV] .... max_features=0.9941037647662272, max_depth=19, total=   0.0s\n",
      "[CV] max_features=0.9941037647662272, max_depth=19 ...................\n",
      "[CV] .... max_features=0.9941037647662272, max_depth=19, total=   0.0s\n",
      "[CV] max_features=0.9941037647662272, max_depth=19 ...................\n",
      "[CV] .... max_features=0.9941037647662272, max_depth=19, total=   0.0s\n",
      "[CV] max_features=0.801018148602785, max_depth=19 ....................\n",
      "[CV] ..... max_features=0.801018148602785, max_depth=19, total=   0.0s\n",
      "[CV] max_features=0.801018148602785, max_depth=19 ....................\n",
      "[CV] ..... max_features=0.801018148602785, max_depth=19, total=   0.0s\n",
      "[CV] max_features=0.801018148602785, max_depth=19 ....................\n",
      "[CV] ..... max_features=0.801018148602785, max_depth=19, total=   0.0s\n",
      "[CV] max_features=0.801018148602785, max_depth=19 ....................\n",
      "[CV] ..... max_features=0.801018148602785, max_depth=19, total=   0.0s\n",
      "[CV] max_features=0.801018148602785, max_depth=19 ....................\n",
      "[CV] ..... max_features=0.801018148602785, max_depth=19, total=   0.0s\n",
      "[CV] max_features=0.6126696580625337, max_depth=6 ....................\n",
      "[CV] ..... max_features=0.6126696580625337, max_depth=6, total=   0.0s\n",
      "[CV] max_features=0.6126696580625337, max_depth=6 ....................\n",
      "[CV] ..... max_features=0.6126696580625337, max_depth=6, total=   0.0s\n",
      "[CV] max_features=0.6126696580625337, max_depth=6 ....................\n",
      "[CV] ..... max_features=0.6126696580625337, max_depth=6, total=   0.0s\n",
      "[CV] max_features=0.6126696580625337, max_depth=6 ....................\n",
      "[CV] ..... max_features=0.6126696580625337, max_depth=6, total=   0.0s\n",
      "[CV] max_features=0.6126696580625337, max_depth=6 ....................\n",
      "[CV] ..... max_features=0.6126696580625337, max_depth=6, total=   0.0s\n",
      "[CV] max_features=0.9192012698342427, max_depth=16 ...................\n",
      "[CV] .... max_features=0.9192012698342427, max_depth=16, total=   0.0s\n",
      "[CV] max_features=0.9192012698342427, max_depth=16 ...................\n",
      "[CV] .... max_features=0.9192012698342427, max_depth=16, total=   0.0s\n",
      "[CV] max_features=0.9192012698342427, max_depth=16 ...................\n",
      "[CV] .... max_features=0.9192012698342427, max_depth=16, total=   0.0s\n",
      "[CV] max_features=0.9192012698342427, max_depth=16 ...................\n",
      "[CV] .... max_features=0.9192012698342427, max_depth=16, total=   0.0s\n",
      "[CV] max_features=0.9192012698342427, max_depth=16 ...................\n",
      "[CV] .... max_features=0.9192012698342427, max_depth=16, total=   0.0s\n",
      "[CV] max_features=0.9191945477306147, max_depth=18 ...................\n",
      "[CV] .... max_features=0.9191945477306147, max_depth=18, total=   0.0s\n",
      "[CV] max_features=0.9191945477306147, max_depth=18 ...................\n",
      "[CV] .... max_features=0.9191945477306147, max_depth=18, total=   0.0s\n",
      "[CV] max_features=0.9191945477306147, max_depth=18 ...................\n",
      "[CV] .... max_features=0.9191945477306147, max_depth=18, total=   0.0s\n",
      "[CV] max_features=0.9191945477306147, max_depth=18 ...................\n",
      "[CV] .... max_features=0.9191945477306147, max_depth=18, total=   0.0s\n",
      "[CV] max_features=0.9191945477306147, max_depth=18 ...................\n",
      "[CV] .... max_features=0.9191945477306147, max_depth=18, total=   0.0s\n",
      "[CV] max_features=0.9191945477306147, max_depth=15 ...................\n",
      "[CV] .... max_features=0.9191945477306147, max_depth=15, total=   0.0s\n",
      "[CV] max_features=0.9191945477306147, max_depth=15 ...................\n",
      "[CV] .... max_features=0.9191945477306147, max_depth=15, total=   0.0s\n",
      "[CV] max_features=0.9191945477306147, max_depth=15 ...................\n",
      "[CV] .... max_features=0.9191945477306147, max_depth=15, total=   0.0s\n",
      "[CV] max_features=0.9191945477306147, max_depth=15 ...................\n",
      "[CV] .... max_features=0.9191945477306147, max_depth=15, total=   0.0s\n",
      "[CV] max_features=0.9191945477306147, max_depth=15 ...................\n",
      "[CV] .... max_features=0.9191945477306147, max_depth=15, total=   0.0s\n",
      "[CV] max_features=0.9191945477306147, max_depth=24 ...................\n",
      "[CV] .... max_features=0.9191945477306147, max_depth=24, total=   0.0s\n",
      "[CV] max_features=0.9191945477306147, max_depth=24 ...................\n",
      "[CV] .... max_features=0.9191945477306147, max_depth=24, total=   0.0s\n",
      "[CV] max_features=0.9191945477306147, max_depth=24 ...................\n",
      "[CV] .... max_features=0.9191945477306147, max_depth=24, total=   0.0s\n",
      "[CV] max_features=0.9191945477306147, max_depth=24 ...................\n",
      "[CV] .... max_features=0.9191945477306147, max_depth=24, total=   0.0s\n",
      "[CV] max_features=0.9191945477306147, max_depth=24 ...................\n",
      "[CV] .... max_features=0.9191945477306147, max_depth=24, total=   0.0s\n",
      "Fitting 5 folds for each of 10 candidates, totalling 50 fits\n",
      "[CV] max_features=0.6135349600764552, max_depth=10 ...................\n"
     ]
    },
    {
     "name": "stderr",
     "output_type": "stream",
     "text": [
      "[Parallel(n_jobs=1)]: Done  50 out of  50 | elapsed:    0.6s finished\n",
      "[Parallel(n_jobs=1)]: Using backend SequentialBackend with 1 concurrent workers.\n"
     ]
    },
    {
     "name": "stdout",
     "output_type": "stream",
     "text": [
      "[CV] .... max_features=0.6135349600764552, max_depth=10, total=   0.3s\n",
      "[CV] max_features=0.6135349600764552, max_depth=10 ...................\n"
     ]
    },
    {
     "name": "stderr",
     "output_type": "stream",
     "text": [
      "[Parallel(n_jobs=1)]: Done   1 out of   1 | elapsed:    0.2s remaining:    0.0s\n"
     ]
    },
    {
     "name": "stdout",
     "output_type": "stream",
     "text": [
      "[CV] .... max_features=0.6135349600764552, max_depth=10, total=   0.3s\n",
      "[CV] max_features=0.6135349600764552, max_depth=10 ...................\n",
      "[CV] .... max_features=0.6135349600764552, max_depth=10, total=   0.2s\n",
      "[CV] max_features=0.6135349600764552, max_depth=10 ...................\n",
      "[CV] .... max_features=0.6135349600764552, max_depth=10, total=   0.2s\n",
      "[CV] max_features=0.6135349600764552, max_depth=10 ...................\n",
      "[CV] .... max_features=0.6135349600764552, max_depth=10, total=   0.3s\n",
      "[CV] max_features=0.6135349600764552, max_depth=6 ....................\n",
      "[CV] ..... max_features=0.6135349600764552, max_depth=6, total=   0.2s\n",
      "[CV] max_features=0.6135349600764552, max_depth=6 ....................\n",
      "[CV] ..... max_features=0.6135349600764552, max_depth=6, total=   0.2s\n",
      "[CV] max_features=0.6135349600764552, max_depth=6 ....................\n",
      "[CV] ..... max_features=0.6135349600764552, max_depth=6, total=   0.2s\n",
      "[CV] max_features=0.6135349600764552, max_depth=6 ....................\n",
      "[CV] ..... max_features=0.6135349600764552, max_depth=6, total=   0.2s\n",
      "[CV] max_features=0.6135349600764552, max_depth=6 ....................\n",
      "[CV] ..... max_features=0.6135349600764552, max_depth=6, total=   0.2s\n",
      "[CV] max_features=0.8322721853853465, max_depth=18 ...................\n",
      "[CV] .... max_features=0.8322721853853465, max_depth=18, total=   0.3s\n",
      "[CV] max_features=0.8322721853853465, max_depth=18 ...................\n",
      "[CV] .... max_features=0.8322721853853465, max_depth=18, total=   0.4s\n",
      "[CV] max_features=0.8322721853853465, max_depth=18 ...................\n",
      "[CV] .... max_features=0.8322721853853465, max_depth=18, total=   0.3s\n",
      "[CV] max_features=0.8322721853853465, max_depth=18 ...................\n",
      "[CV] .... max_features=0.8322721853853465, max_depth=18, total=   0.4s\n",
      "[CV] max_features=0.8322721853853465, max_depth=18 ...................\n",
      "[CV] .... max_features=0.8322721853853465, max_depth=18, total=   0.4s\n",
      "[CV] max_features=0.4884851752220397, max_depth=20 ...................\n",
      "[CV] .... max_features=0.4884851752220397, max_depth=20, total=   0.3s\n",
      "[CV] max_features=0.4884851752220397, max_depth=20 ...................\n",
      "[CV] .... max_features=0.4884851752220397, max_depth=20, total=   0.3s\n",
      "[CV] max_features=0.4884851752220397, max_depth=20 ...................\n",
      "[CV] .... max_features=0.4884851752220397, max_depth=20, total=   0.3s\n",
      "[CV] max_features=0.4884851752220397, max_depth=20 ...................\n",
      "[CV] .... max_features=0.4884851752220397, max_depth=20, total=   0.2s\n",
      "[CV] max_features=0.4884851752220397, max_depth=20 ...................\n",
      "[CV] .... max_features=0.4884851752220397, max_depth=20, total=   0.3s\n",
      "[CV] max_features=0.4123974529052042, max_depth=20 ...................\n",
      "[CV] .... max_features=0.4123974529052042, max_depth=20, total=   0.2s\n",
      "[CV] max_features=0.4123974529052042, max_depth=20 ...................\n",
      "[CV] .... max_features=0.4123974529052042, max_depth=20, total=   0.2s\n",
      "[CV] max_features=0.4123974529052042, max_depth=20 ...................\n",
      "[CV] .... max_features=0.4123974529052042, max_depth=20, total=   0.4s\n",
      "[CV] max_features=0.4123974529052042, max_depth=20 ...................\n",
      "[CV] .... max_features=0.4123974529052042, max_depth=20, total=   0.3s\n",
      "[CV] max_features=0.4123974529052042, max_depth=20 ...................\n",
      "[CV] .... max_features=0.4123974529052042, max_depth=20, total=   0.3s\n",
      "[CV] max_features=0.3326152231181627, max_depth=21 ...................\n",
      "[CV] .... max_features=0.3326152231181627, max_depth=21, total=   0.4s\n",
      "[CV] max_features=0.3326152231181627, max_depth=21 ...................\n",
      "[CV] .... max_features=0.3326152231181627, max_depth=21, total=   0.3s\n",
      "[CV] max_features=0.3326152231181627, max_depth=21 ...................\n",
      "[CV] .... max_features=0.3326152231181627, max_depth=21, total=   0.3s\n",
      "[CV] max_features=0.3326152231181627, max_depth=21 ...................\n",
      "[CV] .... max_features=0.3326152231181627, max_depth=21, total=   0.3s\n",
      "[CV] max_features=0.3326152231181627, max_depth=21 ...................\n",
      "[CV] .... max_features=0.3326152231181627, max_depth=21, total=   0.2s\n",
      "[CV] max_features=0.6970798054094145, max_depth=25 ...................\n",
      "[CV] .... max_features=0.6970798054094145, max_depth=25, total=   0.3s\n",
      "[CV] max_features=0.6970798054094145, max_depth=25 ...................\n",
      "[CV] .... max_features=0.6970798054094145, max_depth=25, total=   0.3s\n",
      "[CV] max_features=0.6970798054094145, max_depth=25 ...................\n",
      "[CV] .... max_features=0.6970798054094145, max_depth=25, total=   0.3s\n",
      "[CV] max_features=0.6970798054094145, max_depth=25 ...................\n",
      "[CV] .... max_features=0.6970798054094145, max_depth=25, total=   0.3s\n",
      "[CV] max_features=0.6970798054094145, max_depth=25 ...................\n",
      "[CV] .... max_features=0.6970798054094145, max_depth=25, total=   0.3s\n",
      "[CV] max_features=0.8322721853853465, max_depth=10 ...................\n",
      "[CV] .... max_features=0.8322721853853465, max_depth=10, total=   0.4s\n",
      "[CV] max_features=0.8322721853853465, max_depth=10 ...................\n",
      "[CV] .... max_features=0.8322721853853465, max_depth=10, total=   0.2s\n",
      "[CV] max_features=0.8322721853853465, max_depth=10 ...................\n",
      "[CV] .... max_features=0.8322721853853465, max_depth=10, total=   0.2s\n",
      "[CV] max_features=0.8322721853853465, max_depth=10 ...................\n",
      "[CV] .... max_features=0.8322721853853465, max_depth=10, total=   0.3s\n",
      "[CV] max_features=0.8322721853853465, max_depth=10 ...................\n",
      "[CV] .... max_features=0.8322721853853465, max_depth=10, total=   0.2s\n",
      "[CV] max_features=0.8322721853853465, max_depth=9 ....................\n",
      "[CV] ..... max_features=0.8322721853853465, max_depth=9, total=   0.2s\n",
      "[CV] max_features=0.8322721853853465, max_depth=9 ....................\n",
      "[CV] ..... max_features=0.8322721853853465, max_depth=9, total=   0.3s\n",
      "[CV] max_features=0.8322721853853465, max_depth=9 ....................\n",
      "[CV] ..... max_features=0.8322721853853465, max_depth=9, total=   0.2s\n",
      "[CV] max_features=0.8322721853853465, max_depth=9 ....................\n",
      "[CV] ..... max_features=0.8322721853853465, max_depth=9, total=   0.2s\n",
      "[CV] max_features=0.8322721853853465, max_depth=9 ....................\n",
      "[CV] ..... max_features=0.8322721853853465, max_depth=9, total=   0.3s\n",
      "[CV] max_features=0.8322721853853465, max_depth=22 ...................\n",
      "[CV] .... max_features=0.8322721853853465, max_depth=22, total=   0.3s\n",
      "[CV] max_features=0.8322721853853465, max_depth=22 ...................\n",
      "[CV] .... max_features=0.8322721853853465, max_depth=22, total=   0.3s\n",
      "[CV] max_features=0.8322721853853465, max_depth=22 ...................\n",
      "[CV] .... max_features=0.8322721853853465, max_depth=22, total=   0.3s\n",
      "[CV] max_features=0.8322721853853465, max_depth=22 ...................\n",
      "[CV] .... max_features=0.8322721853853465, max_depth=22, total=   0.3s\n",
      "[CV] max_features=0.8322721853853465, max_depth=22 ...................\n",
      "[CV] .... max_features=0.8322721853853465, max_depth=22, total=   0.4s\n"
     ]
    },
    {
     "name": "stderr",
     "output_type": "stream",
     "text": [
      "[Parallel(n_jobs=1)]: Done  50 out of  50 | elapsed:   13.9s finished\n"
     ]
    },
    {
     "name": "stdout",
     "output_type": "stream",
     "text": [
      "Fitting 5 folds for each of 10 candidates, totalling 50 fits\n",
      "[CV] max_features=0.58234065269378, max_depth=27 .....................\n",
      "[CV] ...... max_features=0.58234065269378, max_depth=27, total=   0.2s\n",
      "[CV] max_features=0.58234065269378, max_depth=27 .....................\n"
     ]
    },
    {
     "name": "stderr",
     "output_type": "stream",
     "text": [
      "[Parallel(n_jobs=1)]: Using backend SequentialBackend with 1 concurrent workers.\n",
      "[Parallel(n_jobs=1)]: Done   1 out of   1 | elapsed:    0.1s remaining:    0.0s\n"
     ]
    },
    {
     "name": "stdout",
     "output_type": "stream",
     "text": [
      "[CV] ...... max_features=0.58234065269378, max_depth=27, total=   0.2s\n",
      "[CV] max_features=0.58234065269378, max_depth=27 .....................\n",
      "[CV] ...... max_features=0.58234065269378, max_depth=27, total=   0.2s\n",
      "[CV] max_features=0.58234065269378, max_depth=27 .....................\n",
      "[CV] ...... max_features=0.58234065269378, max_depth=27, total=   0.2s\n",
      "[CV] max_features=0.58234065269378, max_depth=27 .....................\n",
      "[CV] ...... max_features=0.58234065269378, max_depth=27, total=   0.2s\n",
      "[CV] max_features=0.58234065269378, max_depth=8 ......................\n",
      "[CV] ....... max_features=0.58234065269378, max_depth=8, total=   0.2s\n",
      "[CV] max_features=0.58234065269378, max_depth=8 ......................\n",
      "[CV] ....... max_features=0.58234065269378, max_depth=8, total=   0.1s\n",
      "[CV] max_features=0.58234065269378, max_depth=8 ......................\n",
      "[CV] ....... max_features=0.58234065269378, max_depth=8, total=   0.1s\n",
      "[CV] max_features=0.58234065269378, max_depth=8 ......................\n",
      "[CV] ....... max_features=0.58234065269378, max_depth=8, total=   0.3s\n",
      "[CV] max_features=0.58234065269378, max_depth=8 ......................\n",
      "[CV] ....... max_features=0.58234065269378, max_depth=8, total=   0.2s\n",
      "[CV] max_features=0.6364613948518949, max_depth=5 ....................\n",
      "[CV] ..... max_features=0.6364613948518949, max_depth=5, total=   0.2s\n",
      "[CV] max_features=0.6364613948518949, max_depth=5 ....................\n",
      "[CV] ..... max_features=0.6364613948518949, max_depth=5, total=   0.1s\n",
      "[CV] max_features=0.6364613948518949, max_depth=5 ....................\n",
      "[CV] ..... max_features=0.6364613948518949, max_depth=5, total=   0.1s\n",
      "[CV] max_features=0.6364613948518949, max_depth=5 ....................\n",
      "[CV] ..... max_features=0.6364613948518949, max_depth=5, total=   0.1s\n",
      "[CV] max_features=0.6364613948518949, max_depth=5 ....................\n",
      "[CV] ..... max_features=0.6364613948518949, max_depth=5, total=   0.1s\n",
      "[CV] max_features=0.9906391073983927, max_depth=22 ...................\n",
      "[CV] .... max_features=0.9906391073983927, max_depth=22, total=   0.2s\n",
      "[CV] max_features=0.9906391073983927, max_depth=22 ...................\n",
      "[CV] .... max_features=0.9906391073983927, max_depth=22, total=   0.2s\n",
      "[CV] max_features=0.9906391073983927, max_depth=22 ...................\n",
      "[CV] .... max_features=0.9906391073983927, max_depth=22, total=   0.2s\n",
      "[CV] max_features=0.9906391073983927, max_depth=22 ...................\n",
      "[CV] .... max_features=0.9906391073983927, max_depth=22, total=   0.3s\n",
      "[CV] max_features=0.9906391073983927, max_depth=22 ...................\n",
      "[CV] .... max_features=0.9906391073983927, max_depth=22, total=   0.2s\n",
      "[CV] max_features=0.6801640100555628, max_depth=22 ...................\n",
      "[CV] .... max_features=0.6801640100555628, max_depth=22, total=   0.2s\n",
      "[CV] max_features=0.6801640100555628, max_depth=22 ...................\n",
      "[CV] .... max_features=0.6801640100555628, max_depth=22, total=   0.2s\n",
      "[CV] max_features=0.6801640100555628, max_depth=22 ...................\n",
      "[CV] .... max_features=0.6801640100555628, max_depth=22, total=   0.2s\n",
      "[CV] max_features=0.6801640100555628, max_depth=22 ...................\n",
      "[CV] .... max_features=0.6801640100555628, max_depth=22, total=   0.1s\n",
      "[CV] max_features=0.6801640100555628, max_depth=22 ...................\n",
      "[CV] .... max_features=0.6801640100555628, max_depth=22, total=   0.2s\n",
      "[CV] max_features=0.40235029616731915, max_depth=15 ..................\n",
      "[CV] ... max_features=0.40235029616731915, max_depth=15, total=   0.1s\n",
      "[CV] max_features=0.40235029616731915, max_depth=15 ..................\n",
      "[CV] ... max_features=0.40235029616731915, max_depth=15, total=   0.1s\n",
      "[CV] max_features=0.40235029616731915, max_depth=15 ..................\n",
      "[CV] ... max_features=0.40235029616731915, max_depth=15, total=   0.2s\n",
      "[CV] max_features=0.40235029616731915, max_depth=15 ..................\n",
      "[CV] ... max_features=0.40235029616731915, max_depth=15, total=   0.1s\n",
      "[CV] max_features=0.40235029616731915, max_depth=15 ..................\n",
      "[CV] ... max_features=0.40235029616731915, max_depth=15, total=   0.1s\n",
      "[CV] max_features=0.37211006367177457, max_depth=7 ...................\n",
      "[CV] .... max_features=0.37211006367177457, max_depth=7, total=   0.1s\n",
      "[CV] max_features=0.37211006367177457, max_depth=7 ...................\n",
      "[CV] .... max_features=0.37211006367177457, max_depth=7, total=   0.1s\n",
      "[CV] max_features=0.37211006367177457, max_depth=7 ...................\n",
      "[CV] .... max_features=0.37211006367177457, max_depth=7, total=   0.1s\n",
      "[CV] max_features=0.37211006367177457, max_depth=7 ...................\n",
      "[CV] .... max_features=0.37211006367177457, max_depth=7, total=   0.1s\n",
      "[CV] max_features=0.37211006367177457, max_depth=7 ...................\n",
      "[CV] .... max_features=0.37211006367177457, max_depth=7, total=   0.1s\n",
      "[CV] max_features=0.6364613948518949, max_depth=27 ...................\n",
      "[CV] .... max_features=0.6364613948518949, max_depth=27, total=   0.2s\n",
      "[CV] max_features=0.6364613948518949, max_depth=27 ...................\n",
      "[CV] .... max_features=0.6364613948518949, max_depth=27, total=   0.2s\n",
      "[CV] max_features=0.6364613948518949, max_depth=27 ...................\n",
      "[CV] .... max_features=0.6364613948518949, max_depth=27, total=   0.2s\n",
      "[CV] max_features=0.6364613948518949, max_depth=27 ...................\n",
      "[CV] .... max_features=0.6364613948518949, max_depth=27, total=   0.2s\n",
      "[CV] max_features=0.6364613948518949, max_depth=27 ...................\n",
      "[CV] .... max_features=0.6364613948518949, max_depth=27, total=   0.2s\n",
      "[CV] max_features=0.6364613948518949, max_depth=29 ...................\n",
      "[CV] .... max_features=0.6364613948518949, max_depth=29, total=   0.1s\n",
      "[CV] max_features=0.6364613948518949, max_depth=29 ...................\n",
      "[CV] .... max_features=0.6364613948518949, max_depth=29, total=   0.2s\n",
      "[CV] max_features=0.6364613948518949, max_depth=29 ...................\n",
      "[CV] .... max_features=0.6364613948518949, max_depth=29, total=   0.2s\n",
      "[CV] max_features=0.6364613948518949, max_depth=29 ...................\n",
      "[CV] .... max_features=0.6364613948518949, max_depth=29, total=   0.2s\n",
      "[CV] max_features=0.6364613948518949, max_depth=29 ...................\n",
      "[CV] .... max_features=0.6364613948518949, max_depth=29, total=   0.2s\n",
      "[CV] max_features=0.6364613948518949, max_depth=21 ...................\n",
      "[CV] .... max_features=0.6364613948518949, max_depth=21, total=   0.2s\n",
      "[CV] max_features=0.6364613948518949, max_depth=21 ...................\n",
      "[CV] .... max_features=0.6364613948518949, max_depth=21, total=   0.3s\n",
      "[CV] max_features=0.6364613948518949, max_depth=21 ...................\n",
      "[CV] .... max_features=0.6364613948518949, max_depth=21, total=   0.4s\n",
      "[CV] max_features=0.6364613948518949, max_depth=21 ...................\n",
      "[CV] .... max_features=0.6364613948518949, max_depth=21, total=   0.2s\n",
      "[CV] max_features=0.6364613948518949, max_depth=21 ...................\n",
      "[CV] .... max_features=0.6364613948518949, max_depth=21, total=   0.2s\n"
     ]
    },
    {
     "name": "stderr",
     "output_type": "stream",
     "text": [
      "[Parallel(n_jobs=1)]: Done  50 out of  50 | elapsed:    8.2s finished\n"
     ]
    }
   ],
   "source": [
    "from sklearn.model_selection import RandomizedSearchCV\n",
    "\n",
    "results = []\n",
    "for estimator in estimators:\n",
    "    result = []\n",
    "    \n",
    "    max_depth = np.random.randint(5, 30, 10)\n",
    "    max_features = np.random.uniform(0.3, 1.0, 10)\n",
    "    param_distributions = {\"max_depth\" : max_depth,\n",
    "    \"max_features\" : max_features}\n",
    "\n",
    "    regressor = RandomizedSearchCV(estimator,\n",
    "    param_distributions,\n",
    "    n_iter=10,\n",
    "    scoring=None,\n",
    "    n_jobs=None,\n",
    "    cv=5,\n",
    "    verbose=2, random_state=42)\n",
    "\n",
    "    regressor.fit(X_train, y_train)\n",
    "    \n",
    "    result.append(estimator.__class__.__name__)\n",
    "    result.append(regressor.best_params_)\n",
    "    result.append(regressor.best_estimator_)\n",
    "    result.append(regressor.best_score_)\n",
    "    result.append(regressor.cv_results_)\n",
    "    results.append(result)\n"
   ]
  },
  {
   "cell_type": "code",
   "execution_count": 74,
   "metadata": {},
   "outputs": [
    {
     "data": {
      "text/html": [
       "<div>\n",
       "<style scoped>\n",
       "    .dataframe tbody tr th:only-of-type {\n",
       "        vertical-align: middle;\n",
       "    }\n",
       "\n",
       "    .dataframe tbody tr th {\n",
       "        vertical-align: top;\n",
       "    }\n",
       "\n",
       "    .dataframe thead th {\n",
       "        text-align: right;\n",
       "    }\n",
       "</style>\n",
       "<table border=\"1\" class=\"dataframe\">\n",
       "  <thead>\n",
       "    <tr style=\"text-align: right;\">\n",
       "      <th></th>\n",
       "      <th>model</th>\n",
       "      <th>params</th>\n",
       "      <th>estimator</th>\n",
       "      <th>score</th>\n",
       "      <th>cv_result</th>\n",
       "    </tr>\n",
       "  </thead>\n",
       "  <tbody>\n",
       "    <tr>\n",
       "      <th>0</th>\n",
       "      <td>DecisionTreeRegressor</td>\n",
       "      <td>{'max_features': 0.6474914317028659, 'max_dept...</td>\n",
       "      <td>DecisionTreeRegressor(max_depth=5, max_feature...</td>\n",
       "      <td>0.160619</td>\n",
       "      <td>{'mean_fit_time': [0.007997083663940429, 0.007...</td>\n",
       "    </tr>\n",
       "    <tr>\n",
       "      <th>1</th>\n",
       "      <td>RandomForestRegressor</td>\n",
       "      <td>{'max_features': 0.6135349600764552, 'max_dept...</td>\n",
       "      <td>(DecisionTreeRegressor(max_depth=6, max_featur...</td>\n",
       "      <td>0.344629</td>\n",
       "      <td>{'mean_fit_time': [0.23652281761169433, 0.2097...</td>\n",
       "    </tr>\n",
       "    <tr>\n",
       "      <th>2</th>\n",
       "      <td>GradientBoostingRegressor</td>\n",
       "      <td>{'max_features': 0.6364613948518949, 'max_dept...</td>\n",
       "      <td>([DecisionTreeRegressor(criterion='friedman_ms...</td>\n",
       "      <td>0.286538</td>\n",
       "      <td>{'mean_fit_time': [0.1759408950805664, 0.16534...</td>\n",
       "    </tr>\n",
       "  </tbody>\n",
       "</table>\n",
       "</div>"
      ],
      "text/plain": [
       "                       model  \\\n",
       "0      DecisionTreeRegressor   \n",
       "1      RandomForestRegressor   \n",
       "2  GradientBoostingRegressor   \n",
       "\n",
       "                                              params  \\\n",
       "0  {'max_features': 0.6474914317028659, 'max_dept...   \n",
       "1  {'max_features': 0.6135349600764552, 'max_dept...   \n",
       "2  {'max_features': 0.6364613948518949, 'max_dept...   \n",
       "\n",
       "                                           estimator     score  \\\n",
       "0  DecisionTreeRegressor(max_depth=5, max_feature...  0.160619   \n",
       "1  (DecisionTreeRegressor(max_depth=6, max_featur...  0.344629   \n",
       "2  ([DecisionTreeRegressor(criterion='friedman_ms...  0.286538   \n",
       "\n",
       "                                           cv_result  \n",
       "0  {'mean_fit_time': [0.007997083663940429, 0.007...  \n",
       "1  {'mean_fit_time': [0.23652281761169433, 0.2097...  \n",
       "2  {'mean_fit_time': [0.1759408950805664, 0.16534...  "
      ]
     },
     "execution_count": 74,
     "metadata": {},
     "output_type": "execute_result"
    }
   ],
   "source": [
    "df_cv = pd.DataFrame(results)\n",
    "df_cv.columns = [\"model\", \"params\", \"estimator\", \"score\", \"cv_result\"]\n",
    "df_cv\n"
   ]
  },
  {
   "cell_type": "code",
   "execution_count": 75,
   "metadata": {},
   "outputs": [
    {
     "data": {
      "text/plain": [
       "RandomForestRegressor(max_depth=6, max_features=0.6135349600764552,\n",
       "                      random_state=42)"
      ]
     },
     "execution_count": 75,
     "metadata": {},
     "output_type": "execute_result"
    }
   ],
   "source": [
    "best_estimator = df_cv.loc[1, \"estimator\"]\n",
    "best_estimator"
   ]
  },
  {
   "cell_type": "markdown",
   "metadata": {},
   "source": [
    "10  학습(훈련)\n",
    "시험을 볼 때 기출문제(X_train)와 정답(y_train)을 보고 공부하는 과정과 유사합니다."
   ]
  },
  {
   "cell_type": "code",
   "execution_count": 76,
   "metadata": {},
   "outputs": [
    {
     "data": {
      "text/plain": [
       "RandomForestRegressor(max_depth=6, max_features=0.6135349600764552,\n",
       "                      random_state=42)"
      ]
     },
     "execution_count": 76,
     "metadata": {},
     "output_type": "execute_result"
    }
   ],
   "source": [
    "best_estimator.fit(X_train, y_train)"
   ]
  },
  {
   "cell_type": "markdown",
   "metadata": {},
   "source": [
    "cross validation 으로 학습 세트의 오차 측정하기"
   ]
  },
  {
   "cell_type": "code",
   "execution_count": 89,
   "metadata": {},
   "outputs": [
    {
     "name": "stderr",
     "output_type": "stream",
     "text": [
      "[Parallel(n_jobs=-1)]: Using backend LokyBackend with 4 concurrent workers.\n",
      "[Parallel(n_jobs=-1)]: Done   5 out of   5 | elapsed:    0.7s finished\n"
     ]
    },
    {
     "data": {
      "text/plain": [
       "array([ 56.37916451, 172.13736646, 101.49360914, 146.13395087,\n",
       "       174.56857795])"
      ]
     },
     "execution_count": 89,
     "metadata": {},
     "output_type": "execute_result"
    }
   ],
   "source": [
    "from sklearn.model_selection import cross_val_predict\n",
    "\n",
    "y_predict = cross_val_predict(best_estimator, X_train,y_train, cv=5, verbose=2, n_jobs=-1)\n",
    "y_predict[:5]"
   ]
  },
  {
   "cell_type": "code",
   "execution_count": 90,
   "metadata": {},
   "outputs": [
    {
     "data": {
      "text/plain": [
       "0"
      ]
     },
     "execution_count": 90,
     "metadata": {},
     "output_type": "execute_result"
    }
   ],
   "source": [
    "# 정답을 정확하게 맞춘 갯수\n",
    "(y_predict == y_train).sum()"
   ]
  },
  {
   "cell_type": "code",
   "execution_count": 91,
   "metadata": {},
   "outputs": [
    {
     "data": {
      "text/plain": [
       "370"
      ]
     },
     "execution_count": 91,
     "metadata": {},
     "output_type": "execute_result"
    }
   ],
   "source": [
    "len(y_train)"
   ]
  },
  {
   "cell_type": "code",
   "execution_count": 92,
   "metadata": {},
   "outputs": [
    {
     "name": "stderr",
     "output_type": "stream",
     "text": [
      "c:\\users\\kim\\appdata\\local\\programs\\python\\python36\\lib\\site-packages\\seaborn\\_decorators.py:43: FutureWarning: Pass the following variables as keyword args: x, y. From version 0.12, the only valid positional argument will be `data`, and passing other arguments without an explicit keyword will result in an error or misinterpretation.\n",
      "  FutureWarning\n"
     ]
    },
    {
     "data": {
      "text/plain": [
       "<AxesSubplot:xlabel='Insulin'>"
      ]
     },
     "execution_count": 92,
     "metadata": {},
     "output_type": "execute_result"
    },
    {
     "data": {
      "image/png": "[encoded data removed]",
      "text/plain": [
       "<Figure size 432x288 with 1 Axes>"
      ]
     },
     "metadata": {
      "needs_background": "light"
     },
     "output_type": "display_data"
    }
   ],
   "source": [
    "# regplot 으로 결과 값을 비교합니다\n",
    "sns.regplot(y_train, y_predict)"
   ]
  },
  {
   "cell_type": "code",
   "execution_count": 93,
   "metadata": {},
   "outputs": [
    {
     "data": {
      "text/plain": [
       "0.35789116266476184"
      ]
     },
     "execution_count": 93,
     "metadata": {},
     "output_type": "execute_result"
    }
   ],
   "source": [
    "# r2_score 를 구합니다.\n",
    "from sklearn.metrics import r2_score\n",
    "r2_score(y_train, y_predict)"
   ]
  },
  {
   "cell_type": "code",
   "execution_count": 94,
   "metadata": {},
   "outputs": [
    {
     "name": "stderr",
     "output_type": "stream",
     "text": [
      "c:\\users\\kim\\appdata\\local\\programs\\python\\python36\\lib\\site-packages\\seaborn\\distributions.py:2551: FutureWarning: `distplot` is a deprecated function and will be removed in a future version. Please adapt your code to use either `displot` (a figure-level function with similar flexibility) or `kdeplot` (an axes-level function for kernel density plots).\n",
      "  warnings.warn(msg, FutureWarning)\n",
      "c:\\users\\kim\\appdata\\local\\programs\\python\\python36\\lib\\site-packages\\seaborn\\distributions.py:2551: FutureWarning: `distplot` is a deprecated function and will be removed in a future version. Please adapt your code to use either `displot` (a figure-level function with similar flexibility) or `kdeplot` (an axes-level function for kernel density plots).\n",
      "  warnings.warn(msg, FutureWarning)\n"
     ]
    },
    {
     "data": {
      "text/plain": [
       "<AxesSubplot:xlabel='Insulin', ylabel='Density'>"
      ]
     },
     "execution_count": 94,
     "metadata": {},
     "output_type": "execute_result"
    },
    {
     "data": {
      "image/png": "[encoded data removed]",
      "text/plain": [
       "<Figure size 432x288 with 1 Axes>"
      ]
     },
     "metadata": {
      "needs_background": "light"
     },
     "output_type": "display_data"
    }
   ],
   "source": [
    "# distplot으로 정답값과 예측값의 분포를 그립니다.\n",
    "\n",
    "sns.distplot(y_train, hist=False, label=(\"train\"))\n",
    "sns.distplot(y_predict, hist=False, label=(\"predict\"))"
   ]
  },
  {
   "cell_type": "markdown",
   "metadata": {},
   "source": [
    "12  오차 구하기"
   ]
  },
  {
   "cell_type": "code",
   "execution_count": 95,
   "metadata": {},
   "outputs": [
    {
     "data": {
      "text/plain": [
       "44.225334696789815"
      ]
     },
     "execution_count": 95,
     "metadata": {},
     "output_type": "execute_result"
    }
   ],
   "source": [
    "#MAE 에러의 평균오차\n",
    "#86\n",
    "#77.56\n",
    "#62.056\n",
    "#44.225\n",
    "error = abs(y_train - y_predict)\n",
    "error.mean()"
   ]
  },
  {
   "cell_type": "code",
   "execution_count": 96,
   "metadata": {},
   "outputs": [
    {
     "name": "stderr",
     "output_type": "stream",
     "text": [
      "c:\\users\\kim\\appdata\\local\\programs\\python\\python36\\lib\\site-packages\\seaborn\\distributions.py:2551: FutureWarning: `distplot` is a deprecated function and will be removed in a future version. Please adapt your code to use either `displot` (a figure-level function with similar flexibility) or `histplot` (an axes-level function for histograms).\n",
      "  warnings.warn(msg, FutureWarning)\n"
     ]
    },
    {
     "data": {
      "text/plain": [
       "<AxesSubplot:xlabel='Insulin', ylabel='Density'>"
      ]
     },
     "execution_count": 96,
     "metadata": {},
     "output_type": "execute_result"
    },
    {
     "data": {
      "image/png": "[encoded data removed]",
      "text/plain": [
       "<Figure size 432x288 with 1 Axes>"
      ]
     },
     "metadata": {
      "needs_background": "light"
     },
     "output_type": "display_data"
    }
   ],
   "source": [
    "sns.distplot(error)"
   ]
  },
  {
   "cell_type": "code",
   "execution_count": 97,
   "metadata": {},
   "outputs": [
    {
     "data": {
      "text/plain": [
       "count    370.000000\n",
       "mean      44.225335\n",
       "std       39.776640\n",
       "min        0.150301\n",
       "25%       14.236732\n",
       "50%       35.348911\n",
       "75%       62.774764\n",
       "max      229.900768\n",
       "Name: Insulin, dtype: float64"
      ]
     },
     "execution_count": 97,
     "metadata": {},
     "output_type": "execute_result"
    }
   ],
   "source": [
    "error.describe()"
   ]
  },
  {
   "cell_type": "code",
   "execution_count": 98,
   "metadata": {},
   "outputs": [
    {
     "data": {
      "text/plain": [
       "59.445648883696606"
      ]
     },
     "execution_count": 98,
     "metadata": {},
     "output_type": "execute_result"
    }
   ],
   "source": [
    "#RMSE 표준편차 랑 비슷\n",
    "#126.895\n",
    "#114.077\n",
    "#84.111\n",
    "#59.44\n",
    "np.sqrt(((y_train - y_predict) ** 2).mean())"
   ]
  },
  {
   "cell_type": "markdown",
   "metadata": {},
   "source": [
    "트리알고리즘 분석하기"
   ]
  },
  {
   "cell_type": "code",
   "execution_count": 87,
   "metadata": {},
   "outputs": [
    {
     "ename": "NotFittedError",
     "evalue": "This DecisionTreeRegressor instance is not fitted yet. Call 'fit' with appropriate arguments before using this estimator.",
     "output_type": "error",
     "traceback": [
      "\u001b[1;31m---------------------------------------------------------------------------\u001b[0m",
      "\u001b[1;31mNotFittedError\u001b[0m                            Traceback (most recent call last)",
      "\u001b[1;32m<ipython-input-87-927c056a2238>\u001b[0m in \u001b[0;36m<module>\u001b[1;34m\u001b[0m\n\u001b[0;32m      3\u001b[0m \u001b[1;33m\u001b[0m\u001b[0m\n\u001b[0;32m      4\u001b[0m \u001b[0mplt\u001b[0m\u001b[1;33m.\u001b[0m\u001b[0mfigure\u001b[0m\u001b[1;33m(\u001b[0m\u001b[0mfigsize\u001b[0m\u001b[1;33m=\u001b[0m\u001b[1;33m(\u001b[0m\u001b[1;36m20\u001b[0m\u001b[1;33m,\u001b[0m \u001b[1;36m20\u001b[0m\u001b[1;33m)\u001b[0m\u001b[1;33m)\u001b[0m\u001b[1;33m\u001b[0m\u001b[1;33m\u001b[0m\u001b[0m\n\u001b[1;32m----> 5\u001b[1;33m \u001b[0mtree\u001b[0m \u001b[1;33m=\u001b[0m \u001b[0mplot_tree\u001b[0m\u001b[1;33m(\u001b[0m\u001b[0mmodel\u001b[0m\u001b[1;33m,\u001b[0m \u001b[0mfeature_names\u001b[0m \u001b[1;33m=\u001b[0m \u001b[0mfeature_names\u001b[0m\u001b[1;33m,\u001b[0m \u001b[0mfilled\u001b[0m\u001b[1;33m=\u001b[0m\u001b[1;32mTrue\u001b[0m\u001b[1;33m,\u001b[0m \u001b[0mfontsize\u001b[0m\u001b[1;33m=\u001b[0m\u001b[1;36m10\u001b[0m\u001b[1;33m)\u001b[0m\u001b[1;33m\u001b[0m\u001b[1;33m\u001b[0m\u001b[0m\n\u001b[0m",
      "\u001b[1;32mc:\\users\\kim\\appdata\\local\\programs\\python\\python36\\lib\\site-packages\\sklearn\\utils\\validation.py\u001b[0m in \u001b[0;36minner_f\u001b[1;34m(*args, **kwargs)\u001b[0m\n\u001b[0;32m     70\u001b[0m                           FutureWarning)\n\u001b[0;32m     71\u001b[0m         \u001b[0mkwargs\u001b[0m\u001b[1;33m.\u001b[0m\u001b[0mupdate\u001b[0m\u001b[1;33m(\u001b[0m\u001b[1;33m{\u001b[0m\u001b[0mk\u001b[0m\u001b[1;33m:\u001b[0m \u001b[0marg\u001b[0m \u001b[1;32mfor\u001b[0m \u001b[0mk\u001b[0m\u001b[1;33m,\u001b[0m \u001b[0marg\u001b[0m \u001b[1;32min\u001b[0m \u001b[0mzip\u001b[0m\u001b[1;33m(\u001b[0m\u001b[0msig\u001b[0m\u001b[1;33m.\u001b[0m\u001b[0mparameters\u001b[0m\u001b[1;33m,\u001b[0m \u001b[0margs\u001b[0m\u001b[1;33m)\u001b[0m\u001b[1;33m}\u001b[0m\u001b[1;33m)\u001b[0m\u001b[1;33m\u001b[0m\u001b[1;33m\u001b[0m\u001b[0m\n\u001b[1;32m---> 72\u001b[1;33m         \u001b[1;32mreturn\u001b[0m \u001b[0mf\u001b[0m\u001b[1;33m(\u001b[0m\u001b[1;33m**\u001b[0m\u001b[0mkwargs\u001b[0m\u001b[1;33m)\u001b[0m\u001b[1;33m\u001b[0m\u001b[1;33m\u001b[0m\u001b[0m\n\u001b[0m\u001b[0;32m     73\u001b[0m     \u001b[1;32mreturn\u001b[0m \u001b[0minner_f\u001b[0m\u001b[1;33m\u001b[0m\u001b[1;33m\u001b[0m\u001b[0m\n\u001b[0;32m     74\u001b[0m \u001b[1;33m\u001b[0m\u001b[0m\n",
      "\u001b[1;32mc:\\users\\kim\\appdata\\local\\programs\\python\\python36\\lib\\site-packages\\sklearn\\tree\\_export.py\u001b[0m in \u001b[0;36mplot_tree\u001b[1;34m(decision_tree, max_depth, feature_names, class_names, label, filled, impurity, node_ids, proportion, rotate, rounded, precision, ax, fontsize)\u001b[0m\n\u001b[0;32m    178\u001b[0m     \"\"\"\n\u001b[0;32m    179\u001b[0m \u001b[1;33m\u001b[0m\u001b[0m\n\u001b[1;32m--> 180\u001b[1;33m     \u001b[0mcheck_is_fitted\u001b[0m\u001b[1;33m(\u001b[0m\u001b[0mdecision_tree\u001b[0m\u001b[1;33m)\u001b[0m\u001b[1;33m\u001b[0m\u001b[1;33m\u001b[0m\u001b[0m\n\u001b[0m\u001b[0;32m    181\u001b[0m \u001b[1;33m\u001b[0m\u001b[0m\n\u001b[0;32m    182\u001b[0m     \u001b[1;32mif\u001b[0m \u001b[0mrotate\u001b[0m \u001b[1;33m!=\u001b[0m \u001b[1;34m'deprecated'\u001b[0m\u001b[1;33m:\u001b[0m\u001b[1;33m\u001b[0m\u001b[1;33m\u001b[0m\u001b[0m\n",
      "\u001b[1;32mc:\\users\\kim\\appdata\\local\\programs\\python\\python36\\lib\\site-packages\\sklearn\\utils\\validation.py\u001b[0m in \u001b[0;36minner_f\u001b[1;34m(*args, **kwargs)\u001b[0m\n\u001b[0;32m     70\u001b[0m                           FutureWarning)\n\u001b[0;32m     71\u001b[0m         \u001b[0mkwargs\u001b[0m\u001b[1;33m.\u001b[0m\u001b[0mupdate\u001b[0m\u001b[1;33m(\u001b[0m\u001b[1;33m{\u001b[0m\u001b[0mk\u001b[0m\u001b[1;33m:\u001b[0m \u001b[0marg\u001b[0m \u001b[1;32mfor\u001b[0m \u001b[0mk\u001b[0m\u001b[1;33m,\u001b[0m \u001b[0marg\u001b[0m \u001b[1;32min\u001b[0m \u001b[0mzip\u001b[0m\u001b[1;33m(\u001b[0m\u001b[0msig\u001b[0m\u001b[1;33m.\u001b[0m\u001b[0mparameters\u001b[0m\u001b[1;33m,\u001b[0m \u001b[0margs\u001b[0m\u001b[1;33m)\u001b[0m\u001b[1;33m}\u001b[0m\u001b[1;33m)\u001b[0m\u001b[1;33m\u001b[0m\u001b[1;33m\u001b[0m\u001b[0m\n\u001b[1;32m---> 72\u001b[1;33m         \u001b[1;32mreturn\u001b[0m \u001b[0mf\u001b[0m\u001b[1;33m(\u001b[0m\u001b[1;33m**\u001b[0m\u001b[0mkwargs\u001b[0m\u001b[1;33m)\u001b[0m\u001b[1;33m\u001b[0m\u001b[1;33m\u001b[0m\u001b[0m\n\u001b[0m\u001b[0;32m     73\u001b[0m     \u001b[1;32mreturn\u001b[0m \u001b[0minner_f\u001b[0m\u001b[1;33m\u001b[0m\u001b[1;33m\u001b[0m\u001b[0m\n\u001b[0;32m     74\u001b[0m \u001b[1;33m\u001b[0m\u001b[0m\n",
      "\u001b[1;32mc:\\users\\kim\\appdata\\local\\programs\\python\\python36\\lib\\site-packages\\sklearn\\utils\\validation.py\u001b[0m in \u001b[0;36mcheck_is_fitted\u001b[1;34m(estimator, attributes, msg, all_or_any)\u001b[0m\n\u001b[0;32m   1017\u001b[0m \u001b[1;33m\u001b[0m\u001b[0m\n\u001b[0;32m   1018\u001b[0m     \u001b[1;32mif\u001b[0m \u001b[1;32mnot\u001b[0m \u001b[0mattrs\u001b[0m\u001b[1;33m:\u001b[0m\u001b[1;33m\u001b[0m\u001b[1;33m\u001b[0m\u001b[0m\n\u001b[1;32m-> 1019\u001b[1;33m         \u001b[1;32mraise\u001b[0m \u001b[0mNotFittedError\u001b[0m\u001b[1;33m(\u001b[0m\u001b[0mmsg\u001b[0m \u001b[1;33m%\u001b[0m \u001b[1;33m{\u001b[0m\u001b[1;34m'name'\u001b[0m\u001b[1;33m:\u001b[0m \u001b[0mtype\u001b[0m\u001b[1;33m(\u001b[0m\u001b[0mestimator\u001b[0m\u001b[1;33m)\u001b[0m\u001b[1;33m.\u001b[0m\u001b[0m__name__\u001b[0m\u001b[1;33m}\u001b[0m\u001b[1;33m)\u001b[0m\u001b[1;33m\u001b[0m\u001b[1;33m\u001b[0m\u001b[0m\n\u001b[0m\u001b[0;32m   1020\u001b[0m \u001b[1;33m\u001b[0m\u001b[0m\n\u001b[0;32m   1021\u001b[0m \u001b[1;33m\u001b[0m\u001b[0m\n",
      "\u001b[1;31mNotFittedError\u001b[0m: This DecisionTreeRegressor instance is not fitted yet. Call 'fit' with appropriate arguments before using this estimator."
     ]
    },
    {
     "data": {
      "text/plain": [
       "<Figure size 1440x1440 with 0 Axes>"
      ]
     },
     "metadata": {},
     "output_type": "display_data"
    }
   ],
   "source": [
    "#plot_tree로 시각화 하기\n",
    "from sklearn.tree import plot_tree\n",
    "\n",
    "plt.figure(figsize=(20, 20)) \n",
    "tree = plot_tree(model, feature_names = feature_names, filled=True, fontsize=10)"
   ]
  },
  {
   "cell_type": "code",
   "execution_count": 99,
   "metadata": {},
   "outputs": [
    {
     "data": {
      "text/plain": [
       "array([0.03496635, 0.45910626, 0.04677642, 0.08234426, 0.12720491,\n",
       "       0.08295684, 0.10406206, 0.06258289])"
      ]
     },
     "execution_count": 99,
     "metadata": {},
     "output_type": "execute_result"
    }
   ],
   "source": [
    "#피처의 중요도 추출하기\n",
    "best_estimator.feature_importances_"
   ]
  },
  {
   "cell_type": "code",
   "execution_count": 100,
   "metadata": {},
   "outputs": [
    {
     "data": {
      "text/plain": [
       "<AxesSubplot:>"
      ]
     },
     "execution_count": 100,
     "metadata": {},
     "output_type": "execute_result"
    },
    {
     "data": {
      "image/png": "[encoded data removed]",
      "text/plain": [
       "<Figure size 432x288 with 1 Axes>"
      ]
     },
     "metadata": {
      "needs_background": "light"
     },
     "output_type": "display_data"
    }
   ],
   "source": [
    "#피처의 중요도 시각화하기\n",
    "sns.barplot(x=best_estimator.feature_importances_, y=feature_names)"
   ]
  },
  {
   "cell_type": "markdown",
   "metadata": {},
   "source": [
    "예측"
   ]
  },
  {
   "cell_type": "code",
   "execution_count": 101,
   "metadata": {},
   "outputs": [
    {
     "data": {
      "text/plain": [
       "array([192.91849016,  65.08177431, 198.44055323, 162.93084574,\n",
       "       164.65312288])"
      ]
     },
     "execution_count": 101,
     "metadata": {},
     "output_type": "execute_result"
    }
   ],
   "source": [
    "y_test = best_estimator.predict(X_test)\n",
    "y_test[:5]"
   ]
  },
  {
   "cell_type": "code",
   "execution_count": 102,
   "metadata": {},
   "outputs": [
    {
     "data": {
      "text/html": [
       "<div>\n",
       "<style scoped>\n",
       "    .dataframe tbody tr th:only-of-type {\n",
       "        vertical-align: middle;\n",
       "    }\n",
       "\n",
       "    .dataframe tbody tr th {\n",
       "        vertical-align: top;\n",
       "    }\n",
       "\n",
       "    .dataframe thead th {\n",
       "        text-align: right;\n",
       "    }\n",
       "</style>\n",
       "<table border=\"1\" class=\"dataframe\">\n",
       "  <thead>\n",
       "    <tr style=\"text-align: right;\">\n",
       "      <th></th>\n",
       "      <th>mean</th>\n",
       "      <th>median</th>\n",
       "    </tr>\n",
       "    <tr>\n",
       "      <th>Outcome</th>\n",
       "      <th></th>\n",
       "      <th></th>\n",
       "    </tr>\n",
       "  </thead>\n",
       "  <tbody>\n",
       "    <tr>\n",
       "      <th>0</th>\n",
       "      <td>115.917323</td>\n",
       "      <td>100</td>\n",
       "    </tr>\n",
       "    <tr>\n",
       "      <th>1</th>\n",
       "      <td>169.163793</td>\n",
       "      <td>160</td>\n",
       "    </tr>\n",
       "  </tbody>\n",
       "</table>\n",
       "</div>"
      ],
      "text/plain": [
       "               mean  median\n",
       "Outcome                    \n",
       "0        115.917323     100\n",
       "1        169.163793     160"
      ]
     },
     "execution_count": 102,
     "metadata": {},
     "output_type": "execute_result"
    }
   ],
   "source": [
    "train.groupby(\"Outcome\")[\"Insulin\"].agg([\"mean\", \"median\"])"
   ]
  },
  {
   "cell_type": "code",
   "execution_count": 103,
   "metadata": {},
   "outputs": [
    {
     "data": {
      "text/html": [
       "<div>\n",
       "<style scoped>\n",
       "    .dataframe tbody tr th:only-of-type {\n",
       "        vertical-align: middle;\n",
       "    }\n",
       "\n",
       "    .dataframe tbody tr th {\n",
       "        vertical-align: top;\n",
       "    }\n",
       "\n",
       "    .dataframe thead th {\n",
       "        text-align: right;\n",
       "    }\n",
       "</style>\n",
       "<table border=\"1\" class=\"dataframe\">\n",
       "  <thead>\n",
       "    <tr style=\"text-align: right;\">\n",
       "      <th></th>\n",
       "      <th>count</th>\n",
       "      <th>mean</th>\n",
       "      <th>std</th>\n",
       "      <th>min</th>\n",
       "      <th>25%</th>\n",
       "      <th>50%</th>\n",
       "      <th>75%</th>\n",
       "      <th>max</th>\n",
       "    </tr>\n",
       "    <tr>\n",
       "      <th>Outcome</th>\n",
       "      <th></th>\n",
       "      <th></th>\n",
       "      <th></th>\n",
       "      <th></th>\n",
       "      <th></th>\n",
       "      <th></th>\n",
       "      <th></th>\n",
       "      <th></th>\n",
       "    </tr>\n",
       "  </thead>\n",
       "  <tbody>\n",
       "    <tr>\n",
       "      <th>0</th>\n",
       "      <td>254.0</td>\n",
       "      <td>115.917323</td>\n",
       "      <td>69.844697</td>\n",
       "      <td>15.0</td>\n",
       "      <td>64.25</td>\n",
       "      <td>100.0</td>\n",
       "      <td>151.00</td>\n",
       "      <td>342.0</td>\n",
       "    </tr>\n",
       "    <tr>\n",
       "      <th>1</th>\n",
       "      <td>116.0</td>\n",
       "      <td>169.163793</td>\n",
       "      <td>70.789454</td>\n",
       "      <td>14.0</td>\n",
       "      <td>124.25</td>\n",
       "      <td>160.0</td>\n",
       "      <td>207.75</td>\n",
       "      <td>360.0</td>\n",
       "    </tr>\n",
       "  </tbody>\n",
       "</table>\n",
       "</div>"
      ],
      "text/plain": [
       "         count        mean        std   min     25%    50%     75%    max\n",
       "Outcome                                                                  \n",
       "0        254.0  115.917323  69.844697  15.0   64.25  100.0  151.00  342.0\n",
       "1        116.0  169.163793  70.789454  14.0  124.25  160.0  207.75  360.0"
      ]
     },
     "execution_count": 103,
     "metadata": {},
     "output_type": "execute_result"
    }
   ],
   "source": [
    "train.groupby(\"Outcome\")[\"Insulin\"].describe()"
   ]
  },
  {
   "cell_type": "code",
   "execution_count": 104,
   "metadata": {},
   "outputs": [],
   "source": [
    "test[\"Insulin\"] = y_test"
   ]
  },
  {
   "cell_type": "code",
   "execution_count": 105,
   "metadata": {},
   "outputs": [
    {
     "data": {
      "text/html": [
       "<div>\n",
       "<style scoped>\n",
       "    .dataframe tbody tr th:only-of-type {\n",
       "        vertical-align: middle;\n",
       "    }\n",
       "\n",
       "    .dataframe tbody tr th {\n",
       "        vertical-align: top;\n",
       "    }\n",
       "\n",
       "    .dataframe thead th {\n",
       "        text-align: right;\n",
       "    }\n",
       "</style>\n",
       "<table border=\"1\" class=\"dataframe\">\n",
       "  <thead>\n",
       "    <tr style=\"text-align: right;\">\n",
       "      <th></th>\n",
       "      <th>count</th>\n",
       "      <th>mean</th>\n",
       "      <th>std</th>\n",
       "      <th>min</th>\n",
       "      <th>25%</th>\n",
       "      <th>50%</th>\n",
       "      <th>75%</th>\n",
       "      <th>max</th>\n",
       "    </tr>\n",
       "    <tr>\n",
       "      <th>Outcome</th>\n",
       "      <th></th>\n",
       "      <th></th>\n",
       "      <th></th>\n",
       "      <th></th>\n",
       "      <th></th>\n",
       "      <th></th>\n",
       "      <th></th>\n",
       "      <th></th>\n",
       "    </tr>\n",
       "  </thead>\n",
       "  <tbody>\n",
       "    <tr>\n",
       "      <th>0</th>\n",
       "      <td>236.0</td>\n",
       "      <td>136.131799</td>\n",
       "      <td>44.360971</td>\n",
       "      <td>56.379397</td>\n",
       "      <td>97.865916</td>\n",
       "      <td>137.851460</td>\n",
       "      <td>174.266838</td>\n",
       "      <td>234.155402</td>\n",
       "    </tr>\n",
       "    <tr>\n",
       "      <th>1</th>\n",
       "      <td>138.0</td>\n",
       "      <td>174.605550</td>\n",
       "      <td>24.962925</td>\n",
       "      <td>102.084519</td>\n",
       "      <td>163.619808</td>\n",
       "      <td>176.479552</td>\n",
       "      <td>189.288567</td>\n",
       "      <td>241.604986</td>\n",
       "    </tr>\n",
       "  </tbody>\n",
       "</table>\n",
       "</div>"
      ],
      "text/plain": [
       "         count        mean        std         min         25%         50%  \\\n",
       "Outcome                                                                     \n",
       "0        236.0  136.131799  44.360971   56.379397   97.865916  137.851460   \n",
       "1        138.0  174.605550  24.962925  102.084519  163.619808  176.479552   \n",
       "\n",
       "                75%         max  \n",
       "Outcome                          \n",
       "0        174.266838  234.155402  \n",
       "1        189.288567  241.604986  "
      ]
     },
     "execution_count": 105,
     "metadata": {},
     "output_type": "execute_result"
    }
   ],
   "source": [
    "test.groupby(\"Outcome\")[\"Insulin\"].describe()"
   ]
  },
  {
   "cell_type": "code",
   "execution_count": 72,
   "metadata": {},
   "outputs": [
    {
     "data": {
      "text/plain": [
       "<AxesSubplot:xlabel='Outcome', ylabel='Insulin'>"
      ]
     },
     "execution_count": 72,
     "metadata": {},
     "output_type": "execute_result"
    },
    {
     "data": {
      "image/png": "[encoded data removed]",
      "text/plain": [
       "<Figure size 432x288 with 1 Axes>"
      ]
     },
     "metadata": {
      "needs_background": "light"
     },
     "output_type": "display_data"
    }
   ],
   "source": [
    "#Insulin 평균값 출력\n",
    "sns.barplot(data=train, x=\"Outcome\", y=\"Insulin\")"
   ]
  },
  {
   "cell_type": "code",
   "execution_count": 73,
   "metadata": {},
   "outputs": [
    {
     "data": {
      "text/plain": [
       "<AxesSubplot:xlabel='Outcome', ylabel='Insulin'>"
      ]
     },
     "execution_count": 73,
     "metadata": {},
     "output_type": "execute_result"
    },
    {
     "data": {
      "image/png": "[encoded data removed]",
      "text/plain": [
       "<Figure size 432x288 with 1 Axes>"
      ]
     },
     "metadata": {
      "needs_background": "light"
     },
     "output_type": "display_data"
    }
   ],
   "source": [
    "#예측값에 대해서 시각화\n",
    "sns.barplot(data=test, x=\"Outcome\", y=\"Insulin\")"
   ]
  },
  {
   "cell_type": "markdown",
   "metadata": {},
   "source": [
    "예측값 CSV파일로 저장하기"
   ]
  },
  {
   "cell_type": "code",
   "execution_count": 106,
   "metadata": {},
   "outputs": [
    {
     "data": {
      "text/plain": [
       "0      0\n",
       "1      0\n",
       "2      0\n",
       "5      0\n",
       "7      0\n",
       "      ..\n",
       "761    0\n",
       "762    0\n",
       "764    0\n",
       "766    0\n",
       "767    0\n",
       "Name: Insulin, Length: 374, dtype: int64"
      ]
     },
     "execution_count": 106,
     "metadata": {},
     "output_type": "execute_result"
    }
   ],
   "source": [
    "df.loc[df[\"Insulin\"] == 0, \"Insulin\"]"
   ]
  },
  {
   "cell_type": "code",
   "execution_count": 107,
   "metadata": {},
   "outputs": [],
   "source": [
    "df.loc[df[\"Insulin\"] == 0, \"Insulin\"] = test[\"Insulin\"]"
   ]
  },
  {
   "cell_type": "code",
   "execution_count": 109,
   "metadata": {},
   "outputs": [],
   "source": [
    "df.to_csv(\"data/diabetes_fill_insulin.csv\",index=False)"
   ]
  },
  {
   "cell_type": "code",
   "execution_count": 110,
   "metadata": {},
   "outputs": [
    {
     "data": {
      "text/html": [
       "<div>\n",
       "<style scoped>\n",
       "    .dataframe tbody tr th:only-of-type {\n",
       "        vertical-align: middle;\n",
       "    }\n",
       "\n",
       "    .dataframe tbody tr th {\n",
       "        vertical-align: top;\n",
       "    }\n",
       "\n",
       "    .dataframe thead th {\n",
       "        text-align: right;\n",
       "    }\n",
       "</style>\n",
       "<table border=\"1\" class=\"dataframe\">\n",
       "  <thead>\n",
       "    <tr style=\"text-align: right;\">\n",
       "      <th></th>\n",
       "      <th>Pregnancies</th>\n",
       "      <th>Glucose</th>\n",
       "      <th>BloodPressure</th>\n",
       "      <th>SkinThickness</th>\n",
       "      <th>Insulin</th>\n",
       "      <th>BMI</th>\n",
       "      <th>DiabetesPedigreeFunction</th>\n",
       "      <th>Age</th>\n",
       "      <th>Outcome</th>\n",
       "    </tr>\n",
       "  </thead>\n",
       "  <tbody>\n",
       "    <tr>\n",
       "      <th>0</th>\n",
       "      <td>6</td>\n",
       "      <td>148</td>\n",
       "      <td>72</td>\n",
       "      <td>35</td>\n",
       "      <td>192.918490</td>\n",
       "      <td>33.6</td>\n",
       "      <td>0.627</td>\n",
       "      <td>50</td>\n",
       "      <td>1</td>\n",
       "    </tr>\n",
       "    <tr>\n",
       "      <th>1</th>\n",
       "      <td>1</td>\n",
       "      <td>85</td>\n",
       "      <td>66</td>\n",
       "      <td>29</td>\n",
       "      <td>65.081774</td>\n",
       "      <td>26.6</td>\n",
       "      <td>0.351</td>\n",
       "      <td>31</td>\n",
       "      <td>0</td>\n",
       "    </tr>\n",
       "    <tr>\n",
       "      <th>2</th>\n",
       "      <td>8</td>\n",
       "      <td>183</td>\n",
       "      <td>64</td>\n",
       "      <td>0</td>\n",
       "      <td>198.440553</td>\n",
       "      <td>23.3</td>\n",
       "      <td>0.672</td>\n",
       "      <td>32</td>\n",
       "      <td>1</td>\n",
       "    </tr>\n",
       "    <tr>\n",
       "      <th>3</th>\n",
       "      <td>1</td>\n",
       "      <td>89</td>\n",
       "      <td>66</td>\n",
       "      <td>23</td>\n",
       "      <td>94.000000</td>\n",
       "      <td>28.1</td>\n",
       "      <td>0.167</td>\n",
       "      <td>21</td>\n",
       "      <td>0</td>\n",
       "    </tr>\n",
       "    <tr>\n",
       "      <th>4</th>\n",
       "      <td>0</td>\n",
       "      <td>137</td>\n",
       "      <td>40</td>\n",
       "      <td>35</td>\n",
       "      <td>168.000000</td>\n",
       "      <td>43.1</td>\n",
       "      <td>2.288</td>\n",
       "      <td>33</td>\n",
       "      <td>1</td>\n",
       "    </tr>\n",
       "    <tr>\n",
       "      <th>...</th>\n",
       "      <td>...</td>\n",
       "      <td>...</td>\n",
       "      <td>...</td>\n",
       "      <td>...</td>\n",
       "      <td>...</td>\n",
       "      <td>...</td>\n",
       "      <td>...</td>\n",
       "      <td>...</td>\n",
       "      <td>...</td>\n",
       "    </tr>\n",
       "    <tr>\n",
       "      <th>763</th>\n",
       "      <td>10</td>\n",
       "      <td>101</td>\n",
       "      <td>76</td>\n",
       "      <td>48</td>\n",
       "      <td>180.000000</td>\n",
       "      <td>32.9</td>\n",
       "      <td>0.171</td>\n",
       "      <td>63</td>\n",
       "      <td>0</td>\n",
       "    </tr>\n",
       "    <tr>\n",
       "      <th>764</th>\n",
       "      <td>2</td>\n",
       "      <td>122</td>\n",
       "      <td>70</td>\n",
       "      <td>27</td>\n",
       "      <td>161.792595</td>\n",
       "      <td>36.8</td>\n",
       "      <td>0.340</td>\n",
       "      <td>27</td>\n",
       "      <td>0</td>\n",
       "    </tr>\n",
       "    <tr>\n",
       "      <th>765</th>\n",
       "      <td>5</td>\n",
       "      <td>121</td>\n",
       "      <td>72</td>\n",
       "      <td>23</td>\n",
       "      <td>112.000000</td>\n",
       "      <td>26.2</td>\n",
       "      <td>0.245</td>\n",
       "      <td>30</td>\n",
       "      <td>0</td>\n",
       "    </tr>\n",
       "    <tr>\n",
       "      <th>766</th>\n",
       "      <td>1</td>\n",
       "      <td>126</td>\n",
       "      <td>60</td>\n",
       "      <td>0</td>\n",
       "      <td>175.557533</td>\n",
       "      <td>30.1</td>\n",
       "      <td>0.349</td>\n",
       "      <td>47</td>\n",
       "      <td>1</td>\n",
       "    </tr>\n",
       "    <tr>\n",
       "      <th>767</th>\n",
       "      <td>1</td>\n",
       "      <td>93</td>\n",
       "      <td>70</td>\n",
       "      <td>31</td>\n",
       "      <td>79.525557</td>\n",
       "      <td>30.4</td>\n",
       "      <td>0.315</td>\n",
       "      <td>23</td>\n",
       "      <td>0</td>\n",
       "    </tr>\n",
       "  </tbody>\n",
       "</table>\n",
       "<p>768 rows × 9 columns</p>\n",
       "</div>"
      ],
      "text/plain": [
       "     Pregnancies  Glucose  BloodPressure  SkinThickness     Insulin   BMI  \\\n",
       "0              6      148             72             35  192.918490  33.6   \n",
       "1              1       85             66             29   65.081774  26.6   \n",
       "2              8      183             64              0  198.440553  23.3   \n",
       "3              1       89             66             23   94.000000  28.1   \n",
       "4              0      137             40             35  168.000000  43.1   \n",
       "..           ...      ...            ...            ...         ...   ...   \n",
       "763           10      101             76             48  180.000000  32.9   \n",
       "764            2      122             70             27  161.792595  36.8   \n",
       "765            5      121             72             23  112.000000  26.2   \n",
       "766            1      126             60              0  175.557533  30.1   \n",
       "767            1       93             70             31   79.525557  30.4   \n",
       "\n",
       "     DiabetesPedigreeFunction  Age  Outcome  \n",
       "0                       0.627   50        1  \n",
       "1                       0.351   31        0  \n",
       "2                       0.672   32        1  \n",
       "3                       0.167   21        0  \n",
       "4                       2.288   33        1  \n",
       "..                        ...  ...      ...  \n",
       "763                     0.171   63        0  \n",
       "764                     0.340   27        0  \n",
       "765                     0.245   30        0  \n",
       "766                     0.349   47        1  \n",
       "767                     0.315   23        0  \n",
       "\n",
       "[768 rows x 9 columns]"
      ]
     },
     "execution_count": 110,
     "metadata": {},
     "output_type": "execute_result"
    }
   ],
   "source": [
    "pd.read_csv(\"data/diabetes_fill_insulin.csv\")"
   ]
  },
  {
   "cell_type": "code",
   "execution_count": null,
   "metadata": {},
   "outputs": [],
   "source": []
  },
  {
   "cell_type": "code",
   "execution_count": null,
   "metadata": {},
   "outputs": [],
   "source": []
  },
  {
   "cell_type": "code",
   "execution_count": null,
   "metadata": {},
   "outputs": [],
   "source": []
  }
 ],
 "metadata": {
  "kernelspec": {
   "display_name": "Python 3",
   "language": "python",
   "name": "python3"
  },
  "language_info": {
   "codemirror_mode": {
    "name": "ipython",
    "version": 3
   },
   "file_extension": ".py",
   "mimetype": "text/x-python",
   "name": "python",
   "nbconvert_exporter": "python",
   "pygments_lexer": "ipython3",
   "version": "3.6.8"
  },
  "toc": {
   "base_numbering": 1,
   "nav_menu": {},
   "number_sections": true,
   "sideBar": true,
   "skip_h1_title": false,
   "title_cell": "Table of Contents",
   "title_sidebar": "Contents",
   "toc_cell": false,
   "toc_position": {},
   "toc_section_display": true,
   "toc_window_display": false
  }
 },
 "nbformat": 4,
 "nbformat_minor": 4
}
